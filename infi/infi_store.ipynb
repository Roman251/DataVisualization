{
 "cells": [
  {
   "cell_type": "code",
   "execution_count": 1,
   "id": "0006503e",
   "metadata": {},
   "outputs": [],
   "source": [
    "import pandas as pd\n",
    "import matplotlib.pyplot as plt"
   ]
  },
  {
   "cell_type": "code",
   "execution_count": 2,
   "id": "f621ae02",
   "metadata": {},
   "outputs": [],
   "source": [
    "d = {'author_id':[1, 2, 3, 4],'author': ['Jane Austen', 'Emily Bronte', 'Charlotte Bronte', 'Sylvia Plath'], \n",
    "     'birth_year': [1900, 1901, 1902, 1903]}\n",
    "author = pd.DataFrame(data=d)"
   ]
  },
  {
   "cell_type": "code",
   "execution_count": 3,
   "id": "f0364a8a",
   "metadata": {},
   "outputs": [
    {
     "data": {
      "text/html": [
       "<div>\n",
       "<style scoped>\n",
       "    .dataframe tbody tr th:only-of-type {\n",
       "        vertical-align: middle;\n",
       "    }\n",
       "\n",
       "    .dataframe tbody tr th {\n",
       "        vertical-align: top;\n",
       "    }\n",
       "\n",
       "    .dataframe thead th {\n",
       "        text-align: right;\n",
       "    }\n",
       "</style>\n",
       "<table border=\"1\" class=\"dataframe\">\n",
       "  <thead>\n",
       "    <tr style=\"text-align: right;\">\n",
       "      <th></th>\n",
       "      <th>author_id</th>\n",
       "      <th>author</th>\n",
       "      <th>birth_year</th>\n",
       "    </tr>\n",
       "  </thead>\n",
       "  <tbody>\n",
       "    <tr>\n",
       "      <th>0</th>\n",
       "      <td>1</td>\n",
       "      <td>Jane Austen</td>\n",
       "      <td>1900</td>\n",
       "    </tr>\n",
       "    <tr>\n",
       "      <th>1</th>\n",
       "      <td>2</td>\n",
       "      <td>Emily Bronte</td>\n",
       "      <td>1901</td>\n",
       "    </tr>\n",
       "    <tr>\n",
       "      <th>2</th>\n",
       "      <td>3</td>\n",
       "      <td>Charlotte Bronte</td>\n",
       "      <td>1902</td>\n",
       "    </tr>\n",
       "    <tr>\n",
       "      <th>3</th>\n",
       "      <td>4</td>\n",
       "      <td>Sylvia Plath</td>\n",
       "      <td>1903</td>\n",
       "    </tr>\n",
       "  </tbody>\n",
       "</table>\n",
       "</div>"
      ],
      "text/plain": [
       "   author_id            author  birth_year\n",
       "0          1       Jane Austen        1900\n",
       "1          2      Emily Bronte        1901\n",
       "2          3  Charlotte Bronte        1902\n",
       "3          4      Sylvia Plath        1903"
      ]
     },
     "execution_count": 3,
     "metadata": {},
     "output_type": "execute_result"
    }
   ],
   "source": [
    "author"
   ]
  },
  {
   "cell_type": "code",
   "execution_count": 4,
   "id": "dd0adbda",
   "metadata": {},
   "outputs": [],
   "source": [
    "d = {'book_id':[1, 2, 3, 4, 5],'title': ['The Bell Jar', 'Wuthering Heights', 'Pride and Prejudice', 'Jane Eyre', 'Persuasion'], \n",
    "     'publishing_year': [1980, 1950, 1952, 1925, 1954], 'author_id':[4, 2, 1, 3, 1]}\n",
    "\n",
    "book = pd.DataFrame(data=d)"
   ]
  },
  {
   "cell_type": "code",
   "execution_count": 5,
   "id": "42488ebc",
   "metadata": {},
   "outputs": [
    {
     "data": {
      "text/html": [
       "<div>\n",
       "<style scoped>\n",
       "    .dataframe tbody tr th:only-of-type {\n",
       "        vertical-align: middle;\n",
       "    }\n",
       "\n",
       "    .dataframe tbody tr th {\n",
       "        vertical-align: top;\n",
       "    }\n",
       "\n",
       "    .dataframe thead th {\n",
       "        text-align: right;\n",
       "    }\n",
       "</style>\n",
       "<table border=\"1\" class=\"dataframe\">\n",
       "  <thead>\n",
       "    <tr style=\"text-align: right;\">\n",
       "      <th></th>\n",
       "      <th>book_id</th>\n",
       "      <th>title</th>\n",
       "      <th>publishing_year</th>\n",
       "      <th>author_id</th>\n",
       "    </tr>\n",
       "  </thead>\n",
       "  <tbody>\n",
       "    <tr>\n",
       "      <th>0</th>\n",
       "      <td>1</td>\n",
       "      <td>The Bell Jar</td>\n",
       "      <td>1980</td>\n",
       "      <td>4</td>\n",
       "    </tr>\n",
       "    <tr>\n",
       "      <th>1</th>\n",
       "      <td>2</td>\n",
       "      <td>Wuthering Heights</td>\n",
       "      <td>1950</td>\n",
       "      <td>2</td>\n",
       "    </tr>\n",
       "    <tr>\n",
       "      <th>2</th>\n",
       "      <td>3</td>\n",
       "      <td>Pride and Prejudice</td>\n",
       "      <td>1952</td>\n",
       "      <td>1</td>\n",
       "    </tr>\n",
       "    <tr>\n",
       "      <th>3</th>\n",
       "      <td>4</td>\n",
       "      <td>Jane Eyre</td>\n",
       "      <td>1925</td>\n",
       "      <td>3</td>\n",
       "    </tr>\n",
       "    <tr>\n",
       "      <th>4</th>\n",
       "      <td>5</td>\n",
       "      <td>Persuasion</td>\n",
       "      <td>1954</td>\n",
       "      <td>1</td>\n",
       "    </tr>\n",
       "  </tbody>\n",
       "</table>\n",
       "</div>"
      ],
      "text/plain": [
       "   book_id                title  publishing_year  author_id\n",
       "0        1         The Bell Jar             1980          4\n",
       "1        2    Wuthering Heights             1950          2\n",
       "2        3  Pride and Prejudice             1952          1\n",
       "3        4            Jane Eyre             1925          3\n",
       "4        5           Persuasion             1954          1"
      ]
     },
     "execution_count": 5,
     "metadata": {},
     "output_type": "execute_result"
    }
   ],
   "source": [
    "book"
   ]
  },
  {
   "cell_type": "code",
   "execution_count": 6,
   "id": "533192ef",
   "metadata": {},
   "outputs": [],
   "source": [
    "d = {'sales_id':[1, 2, 3, 4, 5],'sales_date': ['12/12/2019', '12/12/2019', '12/13/2019', '12/15/2019', '12/15/2019'], \n",
    "     'book_id': [1, 2, 1, 1, 4], 'sales_price':[9.99, 7.99, 9.99, 9.99, 8.99]}\n",
    "\n",
    "sales = pd.DataFrame(data=d)"
   ]
  },
  {
   "cell_type": "code",
   "execution_count": 7,
   "id": "f6376bb0",
   "metadata": {},
   "outputs": [
    {
     "data": {
      "text/html": [
       "<div>\n",
       "<style scoped>\n",
       "    .dataframe tbody tr th:only-of-type {\n",
       "        vertical-align: middle;\n",
       "    }\n",
       "\n",
       "    .dataframe tbody tr th {\n",
       "        vertical-align: top;\n",
       "    }\n",
       "\n",
       "    .dataframe thead th {\n",
       "        text-align: right;\n",
       "    }\n",
       "</style>\n",
       "<table border=\"1\" class=\"dataframe\">\n",
       "  <thead>\n",
       "    <tr style=\"text-align: right;\">\n",
       "      <th></th>\n",
       "      <th>sales_id</th>\n",
       "      <th>sales_date</th>\n",
       "      <th>book_id</th>\n",
       "      <th>sales_price</th>\n",
       "    </tr>\n",
       "  </thead>\n",
       "  <tbody>\n",
       "    <tr>\n",
       "      <th>0</th>\n",
       "      <td>1</td>\n",
       "      <td>12/12/2019</td>\n",
       "      <td>1</td>\n",
       "      <td>9.99</td>\n",
       "    </tr>\n",
       "    <tr>\n",
       "      <th>1</th>\n",
       "      <td>2</td>\n",
       "      <td>12/12/2019</td>\n",
       "      <td>2</td>\n",
       "      <td>7.99</td>\n",
       "    </tr>\n",
       "    <tr>\n",
       "      <th>2</th>\n",
       "      <td>3</td>\n",
       "      <td>12/13/2019</td>\n",
       "      <td>1</td>\n",
       "      <td>9.99</td>\n",
       "    </tr>\n",
       "    <tr>\n",
       "      <th>3</th>\n",
       "      <td>4</td>\n",
       "      <td>12/15/2019</td>\n",
       "      <td>1</td>\n",
       "      <td>9.99</td>\n",
       "    </tr>\n",
       "    <tr>\n",
       "      <th>4</th>\n",
       "      <td>5</td>\n",
       "      <td>12/15/2019</td>\n",
       "      <td>4</td>\n",
       "      <td>8.99</td>\n",
       "    </tr>\n",
       "  </tbody>\n",
       "</table>\n",
       "</div>"
      ],
      "text/plain": [
       "   sales_id  sales_date  book_id  sales_price\n",
       "0         1  12/12/2019        1         9.99\n",
       "1         2  12/12/2019        2         7.99\n",
       "2         3  12/13/2019        1         9.99\n",
       "3         4  12/15/2019        1         9.99\n",
       "4         5  12/15/2019        4         8.99"
      ]
     },
     "execution_count": 7,
     "metadata": {},
     "output_type": "execute_result"
    }
   ],
   "source": [
    "sales"
   ]
  },
  {
   "cell_type": "code",
   "execution_count": 8,
   "id": "c3d6a92d",
   "metadata": {},
   "outputs": [
    {
     "data": {
      "text/html": [
       "<div>\n",
       "<style scoped>\n",
       "    .dataframe tbody tr th:only-of-type {\n",
       "        vertical-align: middle;\n",
       "    }\n",
       "\n",
       "    .dataframe tbody tr th {\n",
       "        vertical-align: top;\n",
       "    }\n",
       "\n",
       "    .dataframe thead th {\n",
       "        text-align: right;\n",
       "    }\n",
       "</style>\n",
       "<table border=\"1\" class=\"dataframe\">\n",
       "  <thead>\n",
       "    <tr style=\"text-align: right;\">\n",
       "      <th></th>\n",
       "      <th>author_id</th>\n",
       "      <th>author</th>\n",
       "      <th>birth_year</th>\n",
       "      <th>book_id</th>\n",
       "      <th>title</th>\n",
       "      <th>publishing_year</th>\n",
       "    </tr>\n",
       "  </thead>\n",
       "  <tbody>\n",
       "    <tr>\n",
       "      <th>0</th>\n",
       "      <td>1</td>\n",
       "      <td>Jane Austen</td>\n",
       "      <td>1900</td>\n",
       "      <td>3</td>\n",
       "      <td>Pride and Prejudice</td>\n",
       "      <td>1952</td>\n",
       "    </tr>\n",
       "    <tr>\n",
       "      <th>1</th>\n",
       "      <td>1</td>\n",
       "      <td>Jane Austen</td>\n",
       "      <td>1900</td>\n",
       "      <td>5</td>\n",
       "      <td>Persuasion</td>\n",
       "      <td>1954</td>\n",
       "    </tr>\n",
       "    <tr>\n",
       "      <th>2</th>\n",
       "      <td>2</td>\n",
       "      <td>Emily Bronte</td>\n",
       "      <td>1901</td>\n",
       "      <td>2</td>\n",
       "      <td>Wuthering Heights</td>\n",
       "      <td>1950</td>\n",
       "    </tr>\n",
       "    <tr>\n",
       "      <th>3</th>\n",
       "      <td>3</td>\n",
       "      <td>Charlotte Bronte</td>\n",
       "      <td>1902</td>\n",
       "      <td>4</td>\n",
       "      <td>Jane Eyre</td>\n",
       "      <td>1925</td>\n",
       "    </tr>\n",
       "    <tr>\n",
       "      <th>4</th>\n",
       "      <td>4</td>\n",
       "      <td>Sylvia Plath</td>\n",
       "      <td>1903</td>\n",
       "      <td>1</td>\n",
       "      <td>The Bell Jar</td>\n",
       "      <td>1980</td>\n",
       "    </tr>\n",
       "  </tbody>\n",
       "</table>\n",
       "</div>"
      ],
      "text/plain": [
       "   author_id            author  birth_year  book_id                title  \\\n",
       "0          1       Jane Austen        1900        3  Pride and Prejudice   \n",
       "1          1       Jane Austen        1900        5           Persuasion   \n",
       "2          2      Emily Bronte        1901        2    Wuthering Heights   \n",
       "3          3  Charlotte Bronte        1902        4            Jane Eyre   \n",
       "4          4      Sylvia Plath        1903        1         The Bell Jar   \n",
       "\n",
       "   publishing_year  \n",
       "0             1952  \n",
       "1             1954  \n",
       "2             1950  \n",
       "3             1925  \n",
       "4             1980  "
      ]
     },
     "execution_count": 8,
     "metadata": {},
     "output_type": "execute_result"
    }
   ],
   "source": [
    "df = pd.merge(author, book, on='author_id')\n",
    "df"
   ]
  },
  {
   "cell_type": "code",
   "execution_count": 9,
   "id": "c2a69f85",
   "metadata": {},
   "outputs": [
    {
     "data": {
      "text/html": [
       "<div>\n",
       "<style scoped>\n",
       "    .dataframe tbody tr th:only-of-type {\n",
       "        vertical-align: middle;\n",
       "    }\n",
       "\n",
       "    .dataframe tbody tr th {\n",
       "        vertical-align: top;\n",
       "    }\n",
       "\n",
       "    .dataframe thead th {\n",
       "        text-align: right;\n",
       "    }\n",
       "</style>\n",
       "<table border=\"1\" class=\"dataframe\">\n",
       "  <thead>\n",
       "    <tr style=\"text-align: right;\">\n",
       "      <th></th>\n",
       "      <th>author_id</th>\n",
       "      <th>author</th>\n",
       "      <th>birth_year</th>\n",
       "      <th>book_id</th>\n",
       "      <th>title</th>\n",
       "      <th>publishing_year</th>\n",
       "      <th>sales_id</th>\n",
       "      <th>sales_date</th>\n",
       "      <th>sales_price</th>\n",
       "    </tr>\n",
       "  </thead>\n",
       "  <tbody>\n",
       "    <tr>\n",
       "      <th>0</th>\n",
       "      <td>2</td>\n",
       "      <td>Emily Bronte</td>\n",
       "      <td>1901</td>\n",
       "      <td>2</td>\n",
       "      <td>Wuthering Heights</td>\n",
       "      <td>1950</td>\n",
       "      <td>2</td>\n",
       "      <td>12/12/2019</td>\n",
       "      <td>7.99</td>\n",
       "    </tr>\n",
       "    <tr>\n",
       "      <th>1</th>\n",
       "      <td>3</td>\n",
       "      <td>Charlotte Bronte</td>\n",
       "      <td>1902</td>\n",
       "      <td>4</td>\n",
       "      <td>Jane Eyre</td>\n",
       "      <td>1925</td>\n",
       "      <td>5</td>\n",
       "      <td>12/15/2019</td>\n",
       "      <td>8.99</td>\n",
       "    </tr>\n",
       "    <tr>\n",
       "      <th>2</th>\n",
       "      <td>4</td>\n",
       "      <td>Sylvia Plath</td>\n",
       "      <td>1903</td>\n",
       "      <td>1</td>\n",
       "      <td>The Bell Jar</td>\n",
       "      <td>1980</td>\n",
       "      <td>1</td>\n",
       "      <td>12/12/2019</td>\n",
       "      <td>9.99</td>\n",
       "    </tr>\n",
       "    <tr>\n",
       "      <th>3</th>\n",
       "      <td>4</td>\n",
       "      <td>Sylvia Plath</td>\n",
       "      <td>1903</td>\n",
       "      <td>1</td>\n",
       "      <td>The Bell Jar</td>\n",
       "      <td>1980</td>\n",
       "      <td>3</td>\n",
       "      <td>12/13/2019</td>\n",
       "      <td>9.99</td>\n",
       "    </tr>\n",
       "    <tr>\n",
       "      <th>4</th>\n",
       "      <td>4</td>\n",
       "      <td>Sylvia Plath</td>\n",
       "      <td>1903</td>\n",
       "      <td>1</td>\n",
       "      <td>The Bell Jar</td>\n",
       "      <td>1980</td>\n",
       "      <td>4</td>\n",
       "      <td>12/15/2019</td>\n",
       "      <td>9.99</td>\n",
       "    </tr>\n",
       "  </tbody>\n",
       "</table>\n",
       "</div>"
      ],
      "text/plain": [
       "   author_id            author  birth_year  book_id              title  \\\n",
       "0          2      Emily Bronte        1901        2  Wuthering Heights   \n",
       "1          3  Charlotte Bronte        1902        4          Jane Eyre   \n",
       "2          4      Sylvia Plath        1903        1       The Bell Jar   \n",
       "3          4      Sylvia Plath        1903        1       The Bell Jar   \n",
       "4          4      Sylvia Plath        1903        1       The Bell Jar   \n",
       "\n",
       "   publishing_year  sales_id  sales_date  sales_price  \n",
       "0             1950         2  12/12/2019         7.99  \n",
       "1             1925         5  12/15/2019         8.99  \n",
       "2             1980         1  12/12/2019         9.99  \n",
       "3             1980         3  12/13/2019         9.99  \n",
       "4             1980         4  12/15/2019         9.99  "
      ]
     },
     "execution_count": 9,
     "metadata": {},
     "output_type": "execute_result"
    }
   ],
   "source": [
    "df2 = pd.merge(df, sales, on='book_id')\n",
    "df2"
   ]
  },
  {
   "cell_type": "code",
   "execution_count": 10,
   "id": "653c2041",
   "metadata": {},
   "outputs": [
    {
     "data": {
      "text/html": [
       "<div>\n",
       "<style scoped>\n",
       "    .dataframe tbody tr th:only-of-type {\n",
       "        vertical-align: middle;\n",
       "    }\n",
       "\n",
       "    .dataframe tbody tr th {\n",
       "        vertical-align: top;\n",
       "    }\n",
       "\n",
       "    .dataframe thead th {\n",
       "        text-align: right;\n",
       "    }\n",
       "</style>\n",
       "<table border=\"1\" class=\"dataframe\">\n",
       "  <thead>\n",
       "    <tr style=\"text-align: right;\">\n",
       "      <th></th>\n",
       "      <th>author_id</th>\n",
       "      <th>author</th>\n",
       "      <th>birth_year</th>\n",
       "      <th>title</th>\n",
       "      <th>publishing_year</th>\n",
       "      <th>sales_date</th>\n",
       "      <th>sales_price</th>\n",
       "    </tr>\n",
       "  </thead>\n",
       "  <tbody>\n",
       "    <tr>\n",
       "      <th>0</th>\n",
       "      <td>2</td>\n",
       "      <td>Emily Bronte</td>\n",
       "      <td>1901</td>\n",
       "      <td>Wuthering Heights</td>\n",
       "      <td>1950</td>\n",
       "      <td>12/12/2019</td>\n",
       "      <td>7.99</td>\n",
       "    </tr>\n",
       "    <tr>\n",
       "      <th>1</th>\n",
       "      <td>3</td>\n",
       "      <td>Charlotte Bronte</td>\n",
       "      <td>1902</td>\n",
       "      <td>Jane Eyre</td>\n",
       "      <td>1925</td>\n",
       "      <td>12/15/2019</td>\n",
       "      <td>8.99</td>\n",
       "    </tr>\n",
       "    <tr>\n",
       "      <th>2</th>\n",
       "      <td>4</td>\n",
       "      <td>Sylvia Plath</td>\n",
       "      <td>1903</td>\n",
       "      <td>The Bell Jar</td>\n",
       "      <td>1980</td>\n",
       "      <td>12/12/2019</td>\n",
       "      <td>9.99</td>\n",
       "    </tr>\n",
       "    <tr>\n",
       "      <th>3</th>\n",
       "      <td>4</td>\n",
       "      <td>Sylvia Plath</td>\n",
       "      <td>1903</td>\n",
       "      <td>The Bell Jar</td>\n",
       "      <td>1980</td>\n",
       "      <td>12/13/2019</td>\n",
       "      <td>9.99</td>\n",
       "    </tr>\n",
       "    <tr>\n",
       "      <th>4</th>\n",
       "      <td>4</td>\n",
       "      <td>Sylvia Plath</td>\n",
       "      <td>1903</td>\n",
       "      <td>The Bell Jar</td>\n",
       "      <td>1980</td>\n",
       "      <td>12/15/2019</td>\n",
       "      <td>9.99</td>\n",
       "    </tr>\n",
       "  </tbody>\n",
       "</table>\n",
       "</div>"
      ],
      "text/plain": [
       "   author_id            author  birth_year              title  \\\n",
       "0          2      Emily Bronte        1901  Wuthering Heights   \n",
       "1          3  Charlotte Bronte        1902          Jane Eyre   \n",
       "2          4      Sylvia Plath        1903       The Bell Jar   \n",
       "3          4      Sylvia Plath        1903       The Bell Jar   \n",
       "4          4      Sylvia Plath        1903       The Bell Jar   \n",
       "\n",
       "   publishing_year  sales_date  sales_price  \n",
       "0             1950  12/12/2019         7.99  \n",
       "1             1925  12/15/2019         8.99  \n",
       "2             1980  12/12/2019         9.99  \n",
       "3             1980  12/13/2019         9.99  \n",
       "4             1980  12/15/2019         9.99  "
      ]
     },
     "execution_count": 10,
     "metadata": {},
     "output_type": "execute_result"
    }
   ],
   "source": [
    "df3 = df2.drop(columns=['book_id', 'sales_id'])\n",
    "df3"
   ]
  },
  {
   "cell_type": "code",
   "execution_count": 11,
   "id": "86f962f9",
   "metadata": {},
   "outputs": [
    {
     "name": "stdout",
     "output_type": "stream",
     "text": [
      "<class 'pandas.core.frame.DataFrame'>\n",
      "Int64Index: 5 entries, 0 to 4\n",
      "Data columns (total 7 columns):\n",
      " #   Column           Non-Null Count  Dtype         \n",
      "---  ------           --------------  -----         \n",
      " 0   author_id        5 non-null      int64         \n",
      " 1   author           5 non-null      object        \n",
      " 2   birth_year       5 non-null      int64         \n",
      " 3   title            5 non-null      object        \n",
      " 4   publishing_year  5 non-null      int64         \n",
      " 5   sales_date       5 non-null      datetime64[ns]\n",
      " 6   sales_price      5 non-null      float64       \n",
      "dtypes: datetime64[ns](1), float64(1), int64(3), object(2)\n",
      "memory usage: 320.0+ bytes\n"
     ]
    }
   ],
   "source": [
    "df3['sales_date'] = pd.to_datetime(df3['sales_date'])\n",
    "df3.info()"
   ]
  },
  {
   "cell_type": "markdown",
   "id": "ae155117",
   "metadata": {},
   "source": [
    "## 1a. Find the highest and lowest selling books (that had at least one sale) by quantity during the month of Dec 2019."
   ]
  },
  {
   "cell_type": "code",
   "execution_count": 12,
   "id": "8f5ea3d2",
   "metadata": {},
   "outputs": [
    {
     "data": {
      "text/plain": [
       "The Bell Jar         3\n",
       "Wuthering Heights    1\n",
       "Jane Eyre            1\n",
       "Name: title, dtype: int64"
      ]
     },
     "execution_count": 12,
     "metadata": {},
     "output_type": "execute_result"
    }
   ],
   "source": [
    "df3['title'].value_counts()"
   ]
  },
  {
   "cell_type": "markdown",
   "id": "87d44de0",
   "metadata": {},
   "source": [
    "## 1b. Find the highest and lowest selling books (that had at least one sale) by revenue during the month of Dec 2019."
   ]
  },
  {
   "cell_type": "code",
   "execution_count": 13,
   "id": "82ab838e",
   "metadata": {},
   "outputs": [
    {
     "data": {
      "text/html": [
       "<div>\n",
       "<style scoped>\n",
       "    .dataframe tbody tr th:only-of-type {\n",
       "        vertical-align: middle;\n",
       "    }\n",
       "\n",
       "    .dataframe tbody tr th {\n",
       "        vertical-align: top;\n",
       "    }\n",
       "\n",
       "    .dataframe thead th {\n",
       "        text-align: right;\n",
       "    }\n",
       "</style>\n",
       "<table border=\"1\" class=\"dataframe\">\n",
       "  <thead>\n",
       "    <tr style=\"text-align: right;\">\n",
       "      <th></th>\n",
       "      <th>title</th>\n",
       "      <th>sales_price</th>\n",
       "    </tr>\n",
       "  </thead>\n",
       "  <tbody>\n",
       "    <tr>\n",
       "      <th>1</th>\n",
       "      <td>The Bell Jar</td>\n",
       "      <td>29.97</td>\n",
       "    </tr>\n",
       "    <tr>\n",
       "      <th>0</th>\n",
       "      <td>Jane Eyre</td>\n",
       "      <td>8.99</td>\n",
       "    </tr>\n",
       "    <tr>\n",
       "      <th>2</th>\n",
       "      <td>Wuthering Heights</td>\n",
       "      <td>7.99</td>\n",
       "    </tr>\n",
       "  </tbody>\n",
       "</table>\n",
       "</div>"
      ],
      "text/plain": [
       "               title  sales_price\n",
       "1       The Bell Jar        29.97\n",
       "0          Jane Eyre         8.99\n",
       "2  Wuthering Heights         7.99"
      ]
     },
     "execution_count": 13,
     "metadata": {},
     "output_type": "execute_result"
    }
   ],
   "source": [
    "df3.groupby('title')['sales_price'].sum().reset_index().sort_values(['sales_price'], ascending=False)"
   ]
  },
  {
   "cell_type": "markdown",
   "id": "934d1e9c",
   "metadata": {},
   "source": [
    "## If there are multiple possible books with the same quantity or revenue, sort by author ID and then by publishing year"
   ]
  },
  {
   "cell_type": "code",
   "execution_count": 14,
   "id": "eacc5681",
   "metadata": {},
   "outputs": [
    {
     "data": {
      "text/html": [
       "<div>\n",
       "<style scoped>\n",
       "    .dataframe tbody tr th:only-of-type {\n",
       "        vertical-align: middle;\n",
       "    }\n",
       "\n",
       "    .dataframe tbody tr th {\n",
       "        vertical-align: top;\n",
       "    }\n",
       "\n",
       "    .dataframe thead th {\n",
       "        text-align: right;\n",
       "    }\n",
       "</style>\n",
       "<table border=\"1\" class=\"dataframe\">\n",
       "  <thead>\n",
       "    <tr style=\"text-align: right;\">\n",
       "      <th></th>\n",
       "      <th>title</th>\n",
       "      <th>counts</th>\n",
       "    </tr>\n",
       "  </thead>\n",
       "  <tbody>\n",
       "    <tr>\n",
       "      <th>0</th>\n",
       "      <td>The Bell Jar</td>\n",
       "      <td>3</td>\n",
       "    </tr>\n",
       "    <tr>\n",
       "      <th>1</th>\n",
       "      <td>Wuthering Heights</td>\n",
       "      <td>1</td>\n",
       "    </tr>\n",
       "    <tr>\n",
       "      <th>2</th>\n",
       "      <td>Jane Eyre</td>\n",
       "      <td>1</td>\n",
       "    </tr>\n",
       "  </tbody>\n",
       "</table>\n",
       "</div>"
      ],
      "text/plain": [
       "               title  counts\n",
       "0       The Bell Jar       3\n",
       "1  Wuthering Heights       1\n",
       "2          Jane Eyre       1"
      ]
     },
     "execution_count": 14,
     "metadata": {},
     "output_type": "execute_result"
    }
   ],
   "source": [
    "df4 = df3['title'].value_counts().rename_axis('title').reset_index(name='counts')\n",
    "df4"
   ]
  },
  {
   "cell_type": "code",
   "execution_count": 15,
   "id": "06391851",
   "metadata": {},
   "outputs": [],
   "source": [
    "df5 = pd.merge(df4, df3, on='title').drop_duplicates(subset=['title'], keep='last')"
   ]
  },
  {
   "cell_type": "code",
   "execution_count": 16,
   "id": "9825adc2",
   "metadata": {},
   "outputs": [
    {
     "data": {
      "text/html": [
       "<div>\n",
       "<style scoped>\n",
       "    .dataframe tbody tr th:only-of-type {\n",
       "        vertical-align: middle;\n",
       "    }\n",
       "\n",
       "    .dataframe tbody tr th {\n",
       "        vertical-align: top;\n",
       "    }\n",
       "\n",
       "    .dataframe thead th {\n",
       "        text-align: right;\n",
       "    }\n",
       "</style>\n",
       "<table border=\"1\" class=\"dataframe\">\n",
       "  <thead>\n",
       "    <tr style=\"text-align: right;\">\n",
       "      <th></th>\n",
       "      <th>title</th>\n",
       "      <th>counts</th>\n",
       "      <th>author_id</th>\n",
       "      <th>author</th>\n",
       "      <th>birth_year</th>\n",
       "      <th>publishing_year</th>\n",
       "      <th>sales_date</th>\n",
       "      <th>sales_price</th>\n",
       "    </tr>\n",
       "  </thead>\n",
       "  <tbody>\n",
       "    <tr>\n",
       "      <th>3</th>\n",
       "      <td>Wuthering Heights</td>\n",
       "      <td>1</td>\n",
       "      <td>2</td>\n",
       "      <td>Emily Bronte</td>\n",
       "      <td>1901</td>\n",
       "      <td>1950</td>\n",
       "      <td>2019-12-12</td>\n",
       "      <td>7.99</td>\n",
       "    </tr>\n",
       "    <tr>\n",
       "      <th>4</th>\n",
       "      <td>Jane Eyre</td>\n",
       "      <td>1</td>\n",
       "      <td>3</td>\n",
       "      <td>Charlotte Bronte</td>\n",
       "      <td>1902</td>\n",
       "      <td>1925</td>\n",
       "      <td>2019-12-15</td>\n",
       "      <td>8.99</td>\n",
       "    </tr>\n",
       "    <tr>\n",
       "      <th>2</th>\n",
       "      <td>The Bell Jar</td>\n",
       "      <td>3</td>\n",
       "      <td>4</td>\n",
       "      <td>Sylvia Plath</td>\n",
       "      <td>1903</td>\n",
       "      <td>1980</td>\n",
       "      <td>2019-12-15</td>\n",
       "      <td>9.99</td>\n",
       "    </tr>\n",
       "  </tbody>\n",
       "</table>\n",
       "</div>"
      ],
      "text/plain": [
       "               title  counts  author_id            author  birth_year  \\\n",
       "3  Wuthering Heights       1          2      Emily Bronte        1901   \n",
       "4          Jane Eyre       1          3  Charlotte Bronte        1902   \n",
       "2       The Bell Jar       3          4      Sylvia Plath        1903   \n",
       "\n",
       "   publishing_year sales_date  sales_price  \n",
       "3             1950 2019-12-12         7.99  \n",
       "4             1925 2019-12-15         8.99  \n",
       "2             1980 2019-12-15         9.99  "
      ]
     },
     "execution_count": 16,
     "metadata": {},
     "output_type": "execute_result"
    }
   ],
   "source": [
    "df5.sort_values(['author_id', 'publishing_year'], ascending=[True, True])"
   ]
  },
  {
   "cell_type": "markdown",
   "id": "e9848516",
   "metadata": {},
   "source": [
    "## 2. Find the top 3 highest selling authors by quantity from the year with the highest sales revenue, along with these authors’ total sales revenue and sales quantity for that year."
   ]
  },
  {
   "cell_type": "code",
   "execution_count": 17,
   "id": "e04295c1",
   "metadata": {},
   "outputs": [],
   "source": [
    "df5['year'] = pd.DatetimeIndex(df5['sales_date']).year"
   ]
  },
  {
   "cell_type": "code",
   "execution_count": 18,
   "id": "3d059ef6",
   "metadata": {},
   "outputs": [
    {
     "data": {
      "text/html": [
       "<div>\n",
       "<style scoped>\n",
       "    .dataframe tbody tr th:only-of-type {\n",
       "        vertical-align: middle;\n",
       "    }\n",
       "\n",
       "    .dataframe tbody tr th {\n",
       "        vertical-align: top;\n",
       "    }\n",
       "\n",
       "    .dataframe thead th {\n",
       "        text-align: right;\n",
       "    }\n",
       "</style>\n",
       "<table border=\"1\" class=\"dataframe\">\n",
       "  <thead>\n",
       "    <tr style=\"text-align: right;\">\n",
       "      <th></th>\n",
       "      <th>title</th>\n",
       "      <th>counts</th>\n",
       "      <th>author_id</th>\n",
       "      <th>author</th>\n",
       "      <th>birth_year</th>\n",
       "      <th>publishing_year</th>\n",
       "      <th>sales_date</th>\n",
       "      <th>sales_price</th>\n",
       "      <th>year</th>\n",
       "      <th>revenue</th>\n",
       "    </tr>\n",
       "  </thead>\n",
       "  <tbody>\n",
       "    <tr>\n",
       "      <th>2</th>\n",
       "      <td>The Bell Jar</td>\n",
       "      <td>3</td>\n",
       "      <td>4</td>\n",
       "      <td>Sylvia Plath</td>\n",
       "      <td>1903</td>\n",
       "      <td>1980</td>\n",
       "      <td>2019-12-15</td>\n",
       "      <td>9.99</td>\n",
       "      <td>2019</td>\n",
       "      <td>29.97</td>\n",
       "    </tr>\n",
       "    <tr>\n",
       "      <th>3</th>\n",
       "      <td>Wuthering Heights</td>\n",
       "      <td>1</td>\n",
       "      <td>2</td>\n",
       "      <td>Emily Bronte</td>\n",
       "      <td>1901</td>\n",
       "      <td>1950</td>\n",
       "      <td>2019-12-12</td>\n",
       "      <td>7.99</td>\n",
       "      <td>2019</td>\n",
       "      <td>7.99</td>\n",
       "    </tr>\n",
       "    <tr>\n",
       "      <th>4</th>\n",
       "      <td>Jane Eyre</td>\n",
       "      <td>1</td>\n",
       "      <td>3</td>\n",
       "      <td>Charlotte Bronte</td>\n",
       "      <td>1902</td>\n",
       "      <td>1925</td>\n",
       "      <td>2019-12-15</td>\n",
       "      <td>8.99</td>\n",
       "      <td>2019</td>\n",
       "      <td>8.99</td>\n",
       "    </tr>\n",
       "  </tbody>\n",
       "</table>\n",
       "</div>"
      ],
      "text/plain": [
       "               title  counts  author_id            author  birth_year  \\\n",
       "2       The Bell Jar       3          4      Sylvia Plath        1903   \n",
       "3  Wuthering Heights       1          2      Emily Bronte        1901   \n",
       "4          Jane Eyre       1          3  Charlotte Bronte        1902   \n",
       "\n",
       "   publishing_year sales_date  sales_price  year  revenue  \n",
       "2             1980 2019-12-15         9.99  2019    29.97  \n",
       "3             1950 2019-12-12         7.99  2019     7.99  \n",
       "4             1925 2019-12-15         8.99  2019     8.99  "
      ]
     },
     "execution_count": 18,
     "metadata": {},
     "output_type": "execute_result"
    }
   ],
   "source": [
    "df5['revenue'] = df5['counts'] * df5['sales_price']\n",
    "df5"
   ]
  },
  {
   "cell_type": "markdown",
   "id": "3f56959f",
   "metadata": {},
   "source": [
    "### Find year for highest sales revenue."
   ]
  },
  {
   "cell_type": "code",
   "execution_count": 19,
   "id": "bb9d589b",
   "metadata": {},
   "outputs": [],
   "source": [
    "highest_sales_year = df5.groupby('year')['revenue'].sum().reset_index().sort_values(['revenue'], \n",
    "                                                                                        ascending=False)['year']"
   ]
  },
  {
   "cell_type": "code",
   "execution_count": 20,
   "id": "fd9da162",
   "metadata": {},
   "outputs": [
    {
     "data": {
      "text/plain": [
       "0    2019\n",
       "Name: year, dtype: int64"
      ]
     },
     "execution_count": 20,
     "metadata": {},
     "output_type": "execute_result"
    }
   ],
   "source": [
    "highest_sales_year"
   ]
  },
  {
   "cell_type": "markdown",
   "id": "d4da26ed",
   "metadata": {},
   "source": [
    "## Author total sales revenue for the highest sales year"
   ]
  },
  {
   "cell_type": "code",
   "execution_count": 21,
   "id": "d848ee8f",
   "metadata": {},
   "outputs": [
    {
     "data": {
      "text/plain": [
       "author\n",
       "Charlotte Bronte     8.99\n",
       "Emily Bronte         7.99\n",
       "Sylvia Plath        29.97\n",
       "Name: revenue, dtype: float64"
      ]
     },
     "execution_count": 21,
     "metadata": {},
     "output_type": "execute_result"
    }
   ],
   "source": [
    "df5[df5['year'] == 2019].groupby(['author'])['revenue'].sum()[0:3]"
   ]
  },
  {
   "cell_type": "markdown",
   "id": "70461057",
   "metadata": {},
   "source": [
    "## Author total books sold for the highest sales year"
   ]
  },
  {
   "cell_type": "code",
   "execution_count": 22,
   "id": "54f210df",
   "metadata": {},
   "outputs": [
    {
     "data": {
      "text/plain": [
       "author\n",
       "Charlotte Bronte    1\n",
       "Emily Bronte        1\n",
       "Sylvia Plath        3\n",
       "Name: counts, dtype: int64"
      ]
     },
     "execution_count": 22,
     "metadata": {},
     "output_type": "execute_result"
    }
   ],
   "source": [
    "df5[df5['year'] == 2019].groupby(['author'])['counts'].sum()[0:3]"
   ]
  },
  {
   "cell_type": "markdown",
   "id": "e9b4d9a6",
   "metadata": {},
   "source": [
    "## 3a. Find the oldest published book that the bookstore has. If more than one, share the full list."
   ]
  },
  {
   "cell_type": "code",
   "execution_count": 23,
   "id": "bd2b0e32",
   "metadata": {},
   "outputs": [],
   "source": [
    "oldest_published_year = min(book['publishing_year'])\n",
    "def print_book_list(data_frame:pd.DataFrame):\n",
    "    if len(df[df['publishing_year'] == min(book['publishing_year'])]) > 1:\n",
    "        return df[df['publishing_year'] == min(book['publishing_year'])]\n",
    "    else:\n",
    "        return min(book['publishing_year'])"
   ]
  },
  {
   "cell_type": "code",
   "execution_count": 24,
   "id": "036aa170",
   "metadata": {},
   "outputs": [
    {
     "data": {
      "text/plain": [
       "1925"
      ]
     },
     "execution_count": 24,
     "metadata": {},
     "output_type": "execute_result"
    }
   ],
   "source": [
    "print_book_list(book)"
   ]
  },
  {
   "cell_type": "code",
   "execution_count": 25,
   "id": "50868ebb",
   "metadata": {},
   "outputs": [
    {
     "data": {
      "text/plain": [
       "Timestamp('2019-12-15 00:00:00')"
      ]
     },
     "execution_count": 25,
     "metadata": {},
     "output_type": "execute_result"
    }
   ],
   "source": [
    "most_recent_date = df3['sales_date'].max()\n",
    "most_recent_date"
   ]
  },
  {
   "cell_type": "code",
   "execution_count": 26,
   "id": "15af407a",
   "metadata": {},
   "outputs": [
    {
     "data": {
      "text/html": [
       "<div>\n",
       "<style scoped>\n",
       "    .dataframe tbody tr th:only-of-type {\n",
       "        vertical-align: middle;\n",
       "    }\n",
       "\n",
       "    .dataframe tbody tr th {\n",
       "        vertical-align: top;\n",
       "    }\n",
       "\n",
       "    .dataframe thead th {\n",
       "        text-align: right;\n",
       "    }\n",
       "</style>\n",
       "<table border=\"1\" class=\"dataframe\">\n",
       "  <thead>\n",
       "    <tr style=\"text-align: right;\">\n",
       "      <th></th>\n",
       "      <th>title</th>\n",
       "      <th>sales_price</th>\n",
       "      <th>sales_date</th>\n",
       "    </tr>\n",
       "  </thead>\n",
       "  <tbody>\n",
       "    <tr>\n",
       "      <th>1</th>\n",
       "      <td>Jane Eyre</td>\n",
       "      <td>8.99</td>\n",
       "      <td>2019-12-15</td>\n",
       "    </tr>\n",
       "    <tr>\n",
       "      <th>4</th>\n",
       "      <td>The Bell Jar</td>\n",
       "      <td>9.99</td>\n",
       "      <td>2019-12-15</td>\n",
       "    </tr>\n",
       "  </tbody>\n",
       "</table>\n",
       "</div>"
      ],
      "text/plain": [
       "          title  sales_price sales_date\n",
       "1     Jane Eyre         8.99 2019-12-15\n",
       "4  The Bell Jar         9.99 2019-12-15"
      ]
     },
     "execution_count": 26,
     "metadata": {},
     "output_type": "execute_result"
    }
   ],
   "source": [
    "df3[df3['sales_date'] == most_recent_date][['title', 'sales_price', 'sales_date']]"
   ]
  },
  {
   "cell_type": "markdown",
   "id": "90fdf560",
   "metadata": {},
   "source": [
    "## 4. Find how old would the author be when each book was published"
   ]
  },
  {
   "cell_type": "code",
   "execution_count": 27,
   "id": "eb9cc6b3",
   "metadata": {},
   "outputs": [
    {
     "data": {
      "text/html": [
       "<div>\n",
       "<style scoped>\n",
       "    .dataframe tbody tr th:only-of-type {\n",
       "        vertical-align: middle;\n",
       "    }\n",
       "\n",
       "    .dataframe tbody tr th {\n",
       "        vertical-align: top;\n",
       "    }\n",
       "\n",
       "    .dataframe thead th {\n",
       "        text-align: right;\n",
       "    }\n",
       "</style>\n",
       "<table border=\"1\" class=\"dataframe\">\n",
       "  <thead>\n",
       "    <tr style=\"text-align: right;\">\n",
       "      <th></th>\n",
       "      <th>author</th>\n",
       "      <th>author_age_when_published</th>\n",
       "      <th>title</th>\n",
       "      <th>publishing_year</th>\n",
       "    </tr>\n",
       "  </thead>\n",
       "  <tbody>\n",
       "    <tr>\n",
       "      <th>0</th>\n",
       "      <td>Jane Austen</td>\n",
       "      <td>52</td>\n",
       "      <td>Pride and Prejudice</td>\n",
       "      <td>1952</td>\n",
       "    </tr>\n",
       "    <tr>\n",
       "      <th>1</th>\n",
       "      <td>Jane Austen</td>\n",
       "      <td>54</td>\n",
       "      <td>Persuasion</td>\n",
       "      <td>1954</td>\n",
       "    </tr>\n",
       "    <tr>\n",
       "      <th>2</th>\n",
       "      <td>Emily Bronte</td>\n",
       "      <td>49</td>\n",
       "      <td>Wuthering Heights</td>\n",
       "      <td>1950</td>\n",
       "    </tr>\n",
       "    <tr>\n",
       "      <th>3</th>\n",
       "      <td>Charlotte Bronte</td>\n",
       "      <td>23</td>\n",
       "      <td>Jane Eyre</td>\n",
       "      <td>1925</td>\n",
       "    </tr>\n",
       "    <tr>\n",
       "      <th>4</th>\n",
       "      <td>Sylvia Plath</td>\n",
       "      <td>77</td>\n",
       "      <td>The Bell Jar</td>\n",
       "      <td>1980</td>\n",
       "    </tr>\n",
       "  </tbody>\n",
       "</table>\n",
       "</div>"
      ],
      "text/plain": [
       "             author  author_age_when_published                title  \\\n",
       "0       Jane Austen                         52  Pride and Prejudice   \n",
       "1       Jane Austen                         54           Persuasion   \n",
       "2      Emily Bronte                         49    Wuthering Heights   \n",
       "3  Charlotte Bronte                         23            Jane Eyre   \n",
       "4      Sylvia Plath                         77         The Bell Jar   \n",
       "\n",
       "   publishing_year  \n",
       "0             1952  \n",
       "1             1954  \n",
       "2             1950  \n",
       "3             1925  \n",
       "4             1980  "
      ]
     },
     "execution_count": 27,
     "metadata": {},
     "output_type": "execute_result"
    }
   ],
   "source": [
    "df['author_age_when_published'] = df['publishing_year'] - df['birth_year']\n",
    "df[['author', 'author_age_when_published', 'title', 'publishing_year']].drop_duplicates(keep='last')"
   ]
  },
  {
   "cell_type": "markdown",
   "id": "27c1a63d",
   "metadata": {},
   "source": [
    "## 5. If we were to have 1 table on sales that would have all the data from all 3 tables combined, how would you go about and write it?\n",
    "\n"
   ]
  },
  {
   "cell_type": "markdown",
   "id": "b2335c3e",
   "metadata": {},
   "source": [
    "### Unnormalized Form?"
   ]
  },
  {
   "cell_type": "code",
   "execution_count": 28,
   "id": "0ca42d16",
   "metadata": {},
   "outputs": [
    {
     "data": {
      "text/html": [
       "<div>\n",
       "<style scoped>\n",
       "    .dataframe tbody tr th:only-of-type {\n",
       "        vertical-align: middle;\n",
       "    }\n",
       "\n",
       "    .dataframe tbody tr th {\n",
       "        vertical-align: top;\n",
       "    }\n",
       "\n",
       "    .dataframe thead th {\n",
       "        text-align: right;\n",
       "    }\n",
       "</style>\n",
       "<table border=\"1\" class=\"dataframe\">\n",
       "  <thead>\n",
       "    <tr style=\"text-align: right;\">\n",
       "      <th></th>\n",
       "      <th>id</th>\n",
       "      <th>author</th>\n",
       "      <th>birth_year</th>\n",
       "      <th>title</th>\n",
       "      <th>publishing_year</th>\n",
       "      <th>sales_date</th>\n",
       "      <th>sales_price</th>\n",
       "    </tr>\n",
       "  </thead>\n",
       "  <tbody>\n",
       "    <tr>\n",
       "      <th>0</th>\n",
       "      <td>2</td>\n",
       "      <td>Emily Bronte</td>\n",
       "      <td>1901</td>\n",
       "      <td>Wuthering Heights</td>\n",
       "      <td>1950</td>\n",
       "      <td>2019-12-12</td>\n",
       "      <td>7.99</td>\n",
       "    </tr>\n",
       "    <tr>\n",
       "      <th>1</th>\n",
       "      <td>3</td>\n",
       "      <td>Charlotte Bronte</td>\n",
       "      <td>1902</td>\n",
       "      <td>Jane Eyre</td>\n",
       "      <td>1925</td>\n",
       "      <td>2019-12-15</td>\n",
       "      <td>8.99</td>\n",
       "    </tr>\n",
       "    <tr>\n",
       "      <th>2</th>\n",
       "      <td>4</td>\n",
       "      <td>Sylvia Plath</td>\n",
       "      <td>1903</td>\n",
       "      <td>The Bell Jar</td>\n",
       "      <td>1980</td>\n",
       "      <td>2019-12-12</td>\n",
       "      <td>9.99</td>\n",
       "    </tr>\n",
       "    <tr>\n",
       "      <th>3</th>\n",
       "      <td>4</td>\n",
       "      <td>Sylvia Plath</td>\n",
       "      <td>1903</td>\n",
       "      <td>The Bell Jar</td>\n",
       "      <td>1980</td>\n",
       "      <td>2019-12-13</td>\n",
       "      <td>9.99</td>\n",
       "    </tr>\n",
       "    <tr>\n",
       "      <th>4</th>\n",
       "      <td>4</td>\n",
       "      <td>Sylvia Plath</td>\n",
       "      <td>1903</td>\n",
       "      <td>The Bell Jar</td>\n",
       "      <td>1980</td>\n",
       "      <td>2019-12-15</td>\n",
       "      <td>9.99</td>\n",
       "    </tr>\n",
       "  </tbody>\n",
       "</table>\n",
       "</div>"
      ],
      "text/plain": [
       "   id            author  birth_year              title  publishing_year  \\\n",
       "0   2      Emily Bronte        1901  Wuthering Heights             1950   \n",
       "1   3  Charlotte Bronte        1902          Jane Eyre             1925   \n",
       "2   4      Sylvia Plath        1903       The Bell Jar             1980   \n",
       "3   4      Sylvia Plath        1903       The Bell Jar             1980   \n",
       "4   4      Sylvia Plath        1903       The Bell Jar             1980   \n",
       "\n",
       "  sales_date  sales_price  \n",
       "0 2019-12-12         7.99  \n",
       "1 2019-12-15         8.99  \n",
       "2 2019-12-12         9.99  \n",
       "3 2019-12-13         9.99  \n",
       "4 2019-12-15         9.99  "
      ]
     },
     "execution_count": 28,
     "metadata": {},
     "output_type": "execute_result"
    }
   ],
   "source": [
    "df = df3.rename(columns={'author_id':'id'})\n",
    "df"
   ]
  },
  {
   "cell_type": "code",
   "execution_count": 29,
   "id": "bb9471ad",
   "metadata": {},
   "outputs": [],
   "source": [
    "to_append = [1, 'Jane Austen', 1900, 'Pride and Prejudice', 1952, None, None]\n",
    "df_length = len(df)\n",
    "df.loc[df_length] = to_append"
   ]
  },
  {
   "cell_type": "code",
   "execution_count": 30,
   "id": "faa7493d",
   "metadata": {},
   "outputs": [
    {
     "data": {
      "text/html": [
       "<div>\n",
       "<style scoped>\n",
       "    .dataframe tbody tr th:only-of-type {\n",
       "        vertical-align: middle;\n",
       "    }\n",
       "\n",
       "    .dataframe tbody tr th {\n",
       "        vertical-align: top;\n",
       "    }\n",
       "\n",
       "    .dataframe thead th {\n",
       "        text-align: right;\n",
       "    }\n",
       "</style>\n",
       "<table border=\"1\" class=\"dataframe\">\n",
       "  <thead>\n",
       "    <tr style=\"text-align: right;\">\n",
       "      <th></th>\n",
       "      <th>id</th>\n",
       "      <th>author</th>\n",
       "      <th>birth_year</th>\n",
       "      <th>title</th>\n",
       "      <th>publishing_year</th>\n",
       "      <th>sales_date</th>\n",
       "      <th>sales_price</th>\n",
       "    </tr>\n",
       "  </thead>\n",
       "  <tbody>\n",
       "    <tr>\n",
       "      <th>0</th>\n",
       "      <td>2</td>\n",
       "      <td>Emily Bronte</td>\n",
       "      <td>1901</td>\n",
       "      <td>Wuthering Heights</td>\n",
       "      <td>1950</td>\n",
       "      <td>2019-12-12</td>\n",
       "      <td>7.99</td>\n",
       "    </tr>\n",
       "    <tr>\n",
       "      <th>1</th>\n",
       "      <td>3</td>\n",
       "      <td>Charlotte Bronte</td>\n",
       "      <td>1902</td>\n",
       "      <td>Jane Eyre</td>\n",
       "      <td>1925</td>\n",
       "      <td>2019-12-15</td>\n",
       "      <td>8.99</td>\n",
       "    </tr>\n",
       "    <tr>\n",
       "      <th>2</th>\n",
       "      <td>4</td>\n",
       "      <td>Sylvia Plath</td>\n",
       "      <td>1903</td>\n",
       "      <td>The Bell Jar</td>\n",
       "      <td>1980</td>\n",
       "      <td>2019-12-12</td>\n",
       "      <td>9.99</td>\n",
       "    </tr>\n",
       "    <tr>\n",
       "      <th>3</th>\n",
       "      <td>4</td>\n",
       "      <td>Sylvia Plath</td>\n",
       "      <td>1903</td>\n",
       "      <td>The Bell Jar</td>\n",
       "      <td>1980</td>\n",
       "      <td>2019-12-13</td>\n",
       "      <td>9.99</td>\n",
       "    </tr>\n",
       "    <tr>\n",
       "      <th>4</th>\n",
       "      <td>4</td>\n",
       "      <td>Sylvia Plath</td>\n",
       "      <td>1903</td>\n",
       "      <td>The Bell Jar</td>\n",
       "      <td>1980</td>\n",
       "      <td>2019-12-15</td>\n",
       "      <td>9.99</td>\n",
       "    </tr>\n",
       "    <tr>\n",
       "      <th>5</th>\n",
       "      <td>1</td>\n",
       "      <td>Jane Austen</td>\n",
       "      <td>1900</td>\n",
       "      <td>Pride and Prejudice</td>\n",
       "      <td>1952</td>\n",
       "      <td>NaT</td>\n",
       "      <td>NaN</td>\n",
       "    </tr>\n",
       "  </tbody>\n",
       "</table>\n",
       "</div>"
      ],
      "text/plain": [
       "   id            author  birth_year                title  publishing_year  \\\n",
       "0   2      Emily Bronte        1901    Wuthering Heights             1950   \n",
       "1   3  Charlotte Bronte        1902            Jane Eyre             1925   \n",
       "2   4      Sylvia Plath        1903         The Bell Jar             1980   \n",
       "3   4      Sylvia Plath        1903         The Bell Jar             1980   \n",
       "4   4      Sylvia Plath        1903         The Bell Jar             1980   \n",
       "5   1       Jane Austen        1900  Pride and Prejudice             1952   \n",
       "\n",
       "  sales_date  sales_price  \n",
       "0 2019-12-12         7.99  \n",
       "1 2019-12-15         8.99  \n",
       "2 2019-12-12         9.99  \n",
       "3 2019-12-13         9.99  \n",
       "4 2019-12-15         9.99  \n",
       "5        NaT          NaN  "
      ]
     },
     "execution_count": 30,
     "metadata": {},
     "output_type": "execute_result"
    }
   ],
   "source": [
    "df"
   ]
  },
  {
   "cell_type": "code",
   "execution_count": 31,
   "id": "fb2ac91f",
   "metadata": {},
   "outputs": [],
   "source": [
    "to_append = [5, 'Jane Austen', 1900, 'Persuasion', 1954, None, None]\n",
    "df_length = len(df)\n",
    "df.loc[df_length] = to_append"
   ]
  },
  {
   "cell_type": "code",
   "execution_count": 32,
   "id": "53ac5516",
   "metadata": {},
   "outputs": [
    {
     "data": {
      "text/html": [
       "<div>\n",
       "<style scoped>\n",
       "    .dataframe tbody tr th:only-of-type {\n",
       "        vertical-align: middle;\n",
       "    }\n",
       "\n",
       "    .dataframe tbody tr th {\n",
       "        vertical-align: top;\n",
       "    }\n",
       "\n",
       "    .dataframe thead th {\n",
       "        text-align: right;\n",
       "    }\n",
       "</style>\n",
       "<table border=\"1\" class=\"dataframe\">\n",
       "  <thead>\n",
       "    <tr style=\"text-align: right;\">\n",
       "      <th></th>\n",
       "      <th>id</th>\n",
       "      <th>author</th>\n",
       "      <th>birth_year</th>\n",
       "      <th>title</th>\n",
       "      <th>publishing_year</th>\n",
       "      <th>sales_date</th>\n",
       "      <th>sales_price</th>\n",
       "    </tr>\n",
       "  </thead>\n",
       "  <tbody>\n",
       "    <tr>\n",
       "      <th>0</th>\n",
       "      <td>2</td>\n",
       "      <td>Emily Bronte</td>\n",
       "      <td>1901</td>\n",
       "      <td>Wuthering Heights</td>\n",
       "      <td>1950</td>\n",
       "      <td>2019-12-12</td>\n",
       "      <td>7.99</td>\n",
       "    </tr>\n",
       "    <tr>\n",
       "      <th>1</th>\n",
       "      <td>3</td>\n",
       "      <td>Charlotte Bronte</td>\n",
       "      <td>1902</td>\n",
       "      <td>Jane Eyre</td>\n",
       "      <td>1925</td>\n",
       "      <td>2019-12-15</td>\n",
       "      <td>8.99</td>\n",
       "    </tr>\n",
       "    <tr>\n",
       "      <th>2</th>\n",
       "      <td>4</td>\n",
       "      <td>Sylvia Plath</td>\n",
       "      <td>1903</td>\n",
       "      <td>The Bell Jar</td>\n",
       "      <td>1980</td>\n",
       "      <td>2019-12-12</td>\n",
       "      <td>9.99</td>\n",
       "    </tr>\n",
       "    <tr>\n",
       "      <th>3</th>\n",
       "      <td>4</td>\n",
       "      <td>Sylvia Plath</td>\n",
       "      <td>1903</td>\n",
       "      <td>The Bell Jar</td>\n",
       "      <td>1980</td>\n",
       "      <td>2019-12-13</td>\n",
       "      <td>9.99</td>\n",
       "    </tr>\n",
       "    <tr>\n",
       "      <th>4</th>\n",
       "      <td>4</td>\n",
       "      <td>Sylvia Plath</td>\n",
       "      <td>1903</td>\n",
       "      <td>The Bell Jar</td>\n",
       "      <td>1980</td>\n",
       "      <td>2019-12-15</td>\n",
       "      <td>9.99</td>\n",
       "    </tr>\n",
       "    <tr>\n",
       "      <th>5</th>\n",
       "      <td>1</td>\n",
       "      <td>Jane Austen</td>\n",
       "      <td>1900</td>\n",
       "      <td>Pride and Prejudice</td>\n",
       "      <td>1952</td>\n",
       "      <td>NaT</td>\n",
       "      <td>NaN</td>\n",
       "    </tr>\n",
       "    <tr>\n",
       "      <th>6</th>\n",
       "      <td>5</td>\n",
       "      <td>Jane Austen</td>\n",
       "      <td>1900</td>\n",
       "      <td>Persuasion</td>\n",
       "      <td>1954</td>\n",
       "      <td>NaT</td>\n",
       "      <td>NaN</td>\n",
       "    </tr>\n",
       "  </tbody>\n",
       "</table>\n",
       "</div>"
      ],
      "text/plain": [
       "   id            author  birth_year                title  publishing_year  \\\n",
       "0   2      Emily Bronte        1901    Wuthering Heights             1950   \n",
       "1   3  Charlotte Bronte        1902            Jane Eyre             1925   \n",
       "2   4      Sylvia Plath        1903         The Bell Jar             1980   \n",
       "3   4      Sylvia Plath        1903         The Bell Jar             1980   \n",
       "4   4      Sylvia Plath        1903         The Bell Jar             1980   \n",
       "5   1       Jane Austen        1900  Pride and Prejudice             1952   \n",
       "6   5       Jane Austen        1900           Persuasion             1954   \n",
       "\n",
       "  sales_date  sales_price  \n",
       "0 2019-12-12         7.99  \n",
       "1 2019-12-15         8.99  \n",
       "2 2019-12-12         9.99  \n",
       "3 2019-12-13         9.99  \n",
       "4 2019-12-15         9.99  \n",
       "5        NaT          NaN  \n",
       "6        NaT          NaN  "
      ]
     },
     "execution_count": 32,
     "metadata": {},
     "output_type": "execute_result"
    }
   ],
   "source": [
    "df"
   ]
  },
  {
   "cell_type": "code",
   "execution_count": 33,
   "id": "b703d091",
   "metadata": {},
   "outputs": [
    {
     "data": {
      "text/html": [
       "<div>\n",
       "<style scoped>\n",
       "    .dataframe tbody tr th:only-of-type {\n",
       "        vertical-align: middle;\n",
       "    }\n",
       "\n",
       "    .dataframe tbody tr th {\n",
       "        vertical-align: top;\n",
       "    }\n",
       "\n",
       "    .dataframe thead th {\n",
       "        text-align: right;\n",
       "    }\n",
       "</style>\n",
       "<table border=\"1\" class=\"dataframe\">\n",
       "  <thead>\n",
       "    <tr style=\"text-align: right;\">\n",
       "      <th></th>\n",
       "      <th>id</th>\n",
       "      <th>author</th>\n",
       "      <th>birth_year</th>\n",
       "      <th>title</th>\n",
       "      <th>publishing_year</th>\n",
       "      <th>sales_date</th>\n",
       "      <th>sales_price</th>\n",
       "    </tr>\n",
       "  </thead>\n",
       "  <tbody>\n",
       "    <tr>\n",
       "      <th>5</th>\n",
       "      <td>1</td>\n",
       "      <td>Jane Austen</td>\n",
       "      <td>1900</td>\n",
       "      <td>Pride and Prejudice</td>\n",
       "      <td>1952</td>\n",
       "      <td>NaT</td>\n",
       "      <td>NaN</td>\n",
       "    </tr>\n",
       "    <tr>\n",
       "      <th>0</th>\n",
       "      <td>2</td>\n",
       "      <td>Emily Bronte</td>\n",
       "      <td>1901</td>\n",
       "      <td>Wuthering Heights</td>\n",
       "      <td>1950</td>\n",
       "      <td>2019-12-12</td>\n",
       "      <td>7.99</td>\n",
       "    </tr>\n",
       "    <tr>\n",
       "      <th>1</th>\n",
       "      <td>3</td>\n",
       "      <td>Charlotte Bronte</td>\n",
       "      <td>1902</td>\n",
       "      <td>Jane Eyre</td>\n",
       "      <td>1925</td>\n",
       "      <td>2019-12-15</td>\n",
       "      <td>8.99</td>\n",
       "    </tr>\n",
       "    <tr>\n",
       "      <th>2</th>\n",
       "      <td>4</td>\n",
       "      <td>Sylvia Plath</td>\n",
       "      <td>1903</td>\n",
       "      <td>The Bell Jar</td>\n",
       "      <td>1980</td>\n",
       "      <td>2019-12-12</td>\n",
       "      <td>9.99</td>\n",
       "    </tr>\n",
       "    <tr>\n",
       "      <th>3</th>\n",
       "      <td>4</td>\n",
       "      <td>Sylvia Plath</td>\n",
       "      <td>1903</td>\n",
       "      <td>The Bell Jar</td>\n",
       "      <td>1980</td>\n",
       "      <td>2019-12-13</td>\n",
       "      <td>9.99</td>\n",
       "    </tr>\n",
       "    <tr>\n",
       "      <th>4</th>\n",
       "      <td>4</td>\n",
       "      <td>Sylvia Plath</td>\n",
       "      <td>1903</td>\n",
       "      <td>The Bell Jar</td>\n",
       "      <td>1980</td>\n",
       "      <td>2019-12-15</td>\n",
       "      <td>9.99</td>\n",
       "    </tr>\n",
       "    <tr>\n",
       "      <th>6</th>\n",
       "      <td>5</td>\n",
       "      <td>Jane Austen</td>\n",
       "      <td>1900</td>\n",
       "      <td>Persuasion</td>\n",
       "      <td>1954</td>\n",
       "      <td>NaT</td>\n",
       "      <td>NaN</td>\n",
       "    </tr>\n",
       "  </tbody>\n",
       "</table>\n",
       "</div>"
      ],
      "text/plain": [
       "   id            author  birth_year                title  publishing_year  \\\n",
       "5   1       Jane Austen        1900  Pride and Prejudice             1952   \n",
       "0   2      Emily Bronte        1901    Wuthering Heights             1950   \n",
       "1   3  Charlotte Bronte        1902            Jane Eyre             1925   \n",
       "2   4      Sylvia Plath        1903         The Bell Jar             1980   \n",
       "3   4      Sylvia Plath        1903         The Bell Jar             1980   \n",
       "4   4      Sylvia Plath        1903         The Bell Jar             1980   \n",
       "6   5       Jane Austen        1900           Persuasion             1954   \n",
       "\n",
       "  sales_date  sales_price  \n",
       "5        NaT          NaN  \n",
       "0 2019-12-12         7.99  \n",
       "1 2019-12-15         8.99  \n",
       "2 2019-12-12         9.99  \n",
       "3 2019-12-13         9.99  \n",
       "4 2019-12-15         9.99  \n",
       "6        NaT          NaN  "
      ]
     },
     "execution_count": 33,
     "metadata": {},
     "output_type": "execute_result"
    }
   ],
   "source": [
    "df.sort_values(by=['id'])"
   ]
  },
  {
   "cell_type": "markdown",
   "id": "ff6b2a04",
   "metadata": {},
   "source": [
    "## Would contain NaN values for books that made no sale."
   ]
  },
  {
   "cell_type": "code",
   "execution_count": null,
   "id": "4da06224",
   "metadata": {},
   "outputs": [],
   "source": []
  },
  {
   "cell_type": "code",
   "execution_count": null,
   "id": "59951f4a",
   "metadata": {},
   "outputs": [],
   "source": []
  },
  {
   "cell_type": "code",
   "execution_count": null,
   "id": "c229bf3d",
   "metadata": {},
   "outputs": [],
   "source": []
  },
  {
   "cell_type": "code",
   "execution_count": null,
   "id": "185776fc",
   "metadata": {},
   "outputs": [],
   "source": []
  },
  {
   "cell_type": "markdown",
   "id": "b00ba4a5",
   "metadata": {},
   "source": [
    "# DSNBI_Analyst Test Questions (Section A)"
   ]
  },
  {
   "cell_type": "code",
   "execution_count": 34,
   "id": "4eb31576",
   "metadata": {},
   "outputs": [],
   "source": [
    "df = pd.read_excel('DSNBI_Analyst Test Data - Section A.xlsx')"
   ]
  },
  {
   "cell_type": "code",
   "execution_count": 35,
   "id": "230a88bb",
   "metadata": {},
   "outputs": [
    {
     "data": {
      "text/plain": [
       "itemid                  0\n",
       "shopid                  0\n",
       "item_name               4\n",
       "item_description      135\n",
       "item_variation          0\n",
       "price                   0\n",
       "stock                   0\n",
       "category                0\n",
       "cb_option               0\n",
       "is_preferred            0\n",
       "sold_count              0\n",
       "item_creation_time      0\n",
       "dtype: int64"
      ]
     },
     "execution_count": 35,
     "metadata": {},
     "output_type": "execute_result"
    }
   ],
   "source": [
    "df.isnull().sum()"
   ]
  },
  {
   "cell_type": "code",
   "execution_count": 36,
   "id": "efcaa3fd",
   "metadata": {},
   "outputs": [
    {
     "data": {
      "text/plain": [
       "False"
      ]
     },
     "execution_count": 36,
     "metadata": {},
     "output_type": "execute_result"
    }
   ],
   "source": [
    "any(df.duplicated())"
   ]
  },
  {
   "cell_type": "code",
   "execution_count": 37,
   "id": "859f4759",
   "metadata": {},
   "outputs": [
    {
     "data": {
      "text/html": [
       "<div>\n",
       "<style scoped>\n",
       "    .dataframe tbody tr th:only-of-type {\n",
       "        vertical-align: middle;\n",
       "    }\n",
       "\n",
       "    .dataframe tbody tr th {\n",
       "        vertical-align: top;\n",
       "    }\n",
       "\n",
       "    .dataframe thead th {\n",
       "        text-align: right;\n",
       "    }\n",
       "</style>\n",
       "<table border=\"1\" class=\"dataframe\">\n",
       "  <thead>\n",
       "    <tr style=\"text-align: right;\">\n",
       "      <th></th>\n",
       "      <th>itemid</th>\n",
       "      <th>shopid</th>\n",
       "      <th>item_name</th>\n",
       "      <th>item_description</th>\n",
       "      <th>item_variation</th>\n",
       "      <th>price</th>\n",
       "      <th>stock</th>\n",
       "      <th>category</th>\n",
       "      <th>cb_option</th>\n",
       "      <th>is_preferred</th>\n",
       "      <th>sold_count</th>\n",
       "      <th>item_creation_time</th>\n",
       "    </tr>\n",
       "  </thead>\n",
       "  <tbody>\n",
       "    <tr>\n",
       "      <th>0</th>\n",
       "      <td>1925574</td>\n",
       "      <td>210000</td>\n",
       "      <td>Golden mobile numbers</td>\n",
       "      <td>Unregistered prepaid cards1) 93355333  selling...</td>\n",
       "      <td>{}</td>\n",
       "      <td>400.0</td>\n",
       "      <td>1</td>\n",
       "      <td>Mobile &amp; Gadgets</td>\n",
       "      <td>0</td>\n",
       "      <td>0</td>\n",
       "      <td>0</td>\n",
       "      <td>2015-10-01 00:24:42</td>\n",
       "    </tr>\n",
       "    <tr>\n",
       "      <th>1</th>\n",
       "      <td>1925617</td>\n",
       "      <td>210000</td>\n",
       "      <td>Golden mobile numbers</td>\n",
       "      <td>Unregistered prepaid cards1) 93355888  selling...</td>\n",
       "      <td>{}</td>\n",
       "      <td>400.0</td>\n",
       "      <td>1</td>\n",
       "      <td>Mobile &amp; Gadgets</td>\n",
       "      <td>0</td>\n",
       "      <td>0</td>\n",
       "      <td>0</td>\n",
       "      <td>2015-10-01 00:26:37</td>\n",
       "    </tr>\n",
       "    <tr>\n",
       "      <th>2</th>\n",
       "      <td>943600</td>\n",
       "      <td>210000</td>\n",
       "      <td>Golden Mobile Numbers</td>\n",
       "      <td>Unregistered prepaid cards. Can port to post p...</td>\n",
       "      <td>{}</td>\n",
       "      <td>8.0</td>\n",
       "      <td>1</td>\n",
       "      <td>Mobile &amp; Gadgets</td>\n",
       "      <td>0</td>\n",
       "      <td>0</td>\n",
       "      <td>0</td>\n",
       "      <td>2015-08-25 21:02:13</td>\n",
       "    </tr>\n",
       "    <tr>\n",
       "      <th>3</th>\n",
       "      <td>1064405</td>\n",
       "      <td>210000</td>\n",
       "      <td>Golden Mobile Numbers</td>\n",
       "      <td>Unregistered prepaid cards. Can port to post p...</td>\n",
       "      <td>{}</td>\n",
       "      <td>8.0</td>\n",
       "      <td>1</td>\n",
       "      <td>Mobile &amp; Gadgets</td>\n",
       "      <td>0</td>\n",
       "      <td>0</td>\n",
       "      <td>0</td>\n",
       "      <td>2015-08-30 20:16:07</td>\n",
       "    </tr>\n",
       "    <tr>\n",
       "      <th>4</th>\n",
       "      <td>20046620</td>\n",
       "      <td>760000</td>\n",
       "      <td>101% AUTHENTIC BASEBALL CAPS</td>\n",
       "      <td>PREORDER Takes about 23 weeks to arrive, will ...</td>\n",
       "      <td>{NEWERA BLACK: 35.0, NIKE SWOOSH DENIM: 35.0, ...</td>\n",
       "      <td>35.0</td>\n",
       "      <td>300</td>\n",
       "      <td>Women's Apparel</td>\n",
       "      <td>0</td>\n",
       "      <td>0</td>\n",
       "      <td>0</td>\n",
       "      <td>2016-05-09 01:14:34</td>\n",
       "    </tr>\n",
       "  </tbody>\n",
       "</table>\n",
       "</div>"
      ],
      "text/plain": [
       "     itemid  shopid                     item_name  \\\n",
       "0   1925574  210000         Golden mobile numbers   \n",
       "1   1925617  210000         Golden mobile numbers   \n",
       "2    943600  210000         Golden Mobile Numbers   \n",
       "3   1064405  210000         Golden Mobile Numbers   \n",
       "4  20046620  760000  101% AUTHENTIC BASEBALL CAPS   \n",
       "\n",
       "                                    item_description  \\\n",
       "0  Unregistered prepaid cards1) 93355333  selling...   \n",
       "1  Unregistered prepaid cards1) 93355888  selling...   \n",
       "2  Unregistered prepaid cards. Can port to post p...   \n",
       "3  Unregistered prepaid cards. Can port to post p...   \n",
       "4  PREORDER Takes about 23 weeks to arrive, will ...   \n",
       "\n",
       "                                      item_variation  price  stock  \\\n",
       "0                                                 {}  400.0      1   \n",
       "1                                                 {}  400.0      1   \n",
       "2                                                 {}    8.0      1   \n",
       "3                                                 {}    8.0      1   \n",
       "4  {NEWERA BLACK: 35.0, NIKE SWOOSH DENIM: 35.0, ...   35.0    300   \n",
       "\n",
       "           category  cb_option  is_preferred  sold_count  item_creation_time  \n",
       "0  Mobile & Gadgets          0             0           0 2015-10-01 00:24:42  \n",
       "1  Mobile & Gadgets          0             0           0 2015-10-01 00:26:37  \n",
       "2  Mobile & Gadgets          0             0           0 2015-08-25 21:02:13  \n",
       "3  Mobile & Gadgets          0             0           0 2015-08-30 20:16:07  \n",
       "4   Women's Apparel          0             0           0 2016-05-09 01:14:34  "
      ]
     },
     "execution_count": 37,
     "metadata": {},
     "output_type": "execute_result"
    }
   ],
   "source": [
    "df.head()"
   ]
  },
  {
   "cell_type": "code",
   "execution_count": 38,
   "id": "b8a2d0ab",
   "metadata": {},
   "outputs": [
    {
     "name": "stdout",
     "output_type": "stream",
     "text": [
      "<class 'pandas.core.frame.DataFrame'>\n",
      "RangeIndex: 50000 entries, 0 to 49999\n",
      "Data columns (total 12 columns):\n",
      " #   Column              Non-Null Count  Dtype         \n",
      "---  ------              --------------  -----         \n",
      " 0   itemid              50000 non-null  int64         \n",
      " 1   shopid              50000 non-null  int64         \n",
      " 2   item_name           49996 non-null  object        \n",
      " 3   item_description    49865 non-null  object        \n",
      " 4   item_variation      50000 non-null  object        \n",
      " 5   price               50000 non-null  float64       \n",
      " 6   stock               50000 non-null  int64         \n",
      " 7   category            50000 non-null  object        \n",
      " 8   cb_option           50000 non-null  int64         \n",
      " 9   is_preferred        50000 non-null  int64         \n",
      " 10  sold_count          50000 non-null  int64         \n",
      " 11  item_creation_time  50000 non-null  datetime64[ns]\n",
      "dtypes: datetime64[ns](1), float64(1), int64(6), object(4)\n",
      "memory usage: 4.6+ MB\n"
     ]
    }
   ],
   "source": [
    "df.info()"
   ]
  },
  {
   "cell_type": "markdown",
   "id": "40429c9d",
   "metadata": {},
   "source": [
    "## 1. Write an excel formula to get the number of unique shops in this data set.\n",
    "### Each shop must have a unique shopid."
   ]
  },
  {
   "cell_type": "code",
   "execution_count": 39,
   "id": "ba98b667",
   "metadata": {},
   "outputs": [
    {
     "data": {
      "text/plain": [
       "array([  210000,   760000, 11272000, 49082000,   225000])"
      ]
     },
     "execution_count": 39,
     "metadata": {},
     "output_type": "execute_result"
    }
   ],
   "source": [
    "unique_shops = df['shopid'].unique()\n",
    "unique_shops[0:5]"
   ]
  },
  {
   "cell_type": "code",
   "execution_count": 40,
   "id": "0bf7e280",
   "metadata": {},
   "outputs": [
    {
     "name": "stdout",
     "output_type": "stream",
     "text": [
      "Number of unique shops is :  938\n"
     ]
    }
   ],
   "source": [
    "print(\"Number of unique shops is : \", len(unique_shops))"
   ]
  },
  {
   "cell_type": "markdown",
   "id": "fd475856",
   "metadata": {},
   "source": [
    "## 2. Write an excel formula to get the number of shops which is a cross border shop but NOT a preferred shop."
   ]
  },
  {
   "cell_type": "code",
   "execution_count": 41,
   "id": "1cb2091d",
   "metadata": {},
   "outputs": [
    {
     "data": {
      "text/plain": [
       "(array([0, 1]), array([0, 1]))"
      ]
     },
     "execution_count": 41,
     "metadata": {},
     "output_type": "execute_result"
    }
   ],
   "source": [
    "df['cb_option'].unique(), df['is_preferred'].unique()"
   ]
  },
  {
   "cell_type": "code",
   "execution_count": 42,
   "id": "606f6f1a",
   "metadata": {},
   "outputs": [
    {
     "data": {
      "text/html": [
       "<div>\n",
       "<style scoped>\n",
       "    .dataframe tbody tr th:only-of-type {\n",
       "        vertical-align: middle;\n",
       "    }\n",
       "\n",
       "    .dataframe tbody tr th {\n",
       "        vertical-align: top;\n",
       "    }\n",
       "\n",
       "    .dataframe thead th {\n",
       "        text-align: right;\n",
       "    }\n",
       "</style>\n",
       "<table border=\"1\" class=\"dataframe\">\n",
       "  <thead>\n",
       "    <tr style=\"text-align: right;\">\n",
       "      <th></th>\n",
       "      <th>itemid</th>\n",
       "      <th>shopid</th>\n",
       "      <th>item_name</th>\n",
       "      <th>item_description</th>\n",
       "      <th>item_variation</th>\n",
       "      <th>price</th>\n",
       "      <th>stock</th>\n",
       "      <th>category</th>\n",
       "      <th>cb_option</th>\n",
       "      <th>is_preferred</th>\n",
       "      <th>sold_count</th>\n",
       "      <th>item_creation_time</th>\n",
       "    </tr>\n",
       "  </thead>\n",
       "  <tbody>\n",
       "    <tr>\n",
       "      <th>8</th>\n",
       "      <td>793229430</td>\n",
       "      <td>49082000</td>\n",
       "      <td>Women Lace Bra Bustier Crop Tops Soft Mesh Tri...</td>\n",
       "      <td>Material: Terylene Colors: BalckStyle: Sexy Br...</td>\n",
       "      <td>{S: 9.98, M: 9.98, L: 9.98, XL: 9.98}</td>\n",
       "      <td>9.98</td>\n",
       "      <td>400</td>\n",
       "      <td>Women's Apparel</td>\n",
       "      <td>1</td>\n",
       "      <td>0</td>\n",
       "      <td>0</td>\n",
       "      <td>2017-12-28 19:55:45</td>\n",
       "    </tr>\n",
       "    <tr>\n",
       "      <th>9</th>\n",
       "      <td>809446063</td>\n",
       "      <td>49082000</td>\n",
       "      <td>Women Lace Bra Bustier Crop Tops Soft Mesh Tri...</td>\n",
       "      <td>Material: Terylene Colors: BalckStyle: Sexy Br...</td>\n",
       "      <td>{S: 9.98, M: 9.98, L: 9.98}</td>\n",
       "      <td>9.98</td>\n",
       "      <td>300</td>\n",
       "      <td>Women's Apparel</td>\n",
       "      <td>1</td>\n",
       "      <td>0</td>\n",
       "      <td>0</td>\n",
       "      <td>2018-01-05 16:08:24</td>\n",
       "    </tr>\n",
       "    <tr>\n",
       "      <th>10</th>\n",
       "      <td>809446145</td>\n",
       "      <td>49082000</td>\n",
       "      <td>Women Lace Bra Bustier Crop Tops Soft Mesh Tri...</td>\n",
       "      <td>Colors: BalckStyle: Sexy BraSize Type: Regular...</td>\n",
       "      <td>{S: 11.48, M: 11.48, L: 11.48, XL: 11.48}</td>\n",
       "      <td>11.48</td>\n",
       "      <td>400</td>\n",
       "      <td>Women's Apparel</td>\n",
       "      <td>1</td>\n",
       "      <td>0</td>\n",
       "      <td>0</td>\n",
       "      <td>2018-01-05 16:08:26</td>\n",
       "    </tr>\n",
       "    <tr>\n",
       "      <th>11</th>\n",
       "      <td>809427287</td>\n",
       "      <td>49082000</td>\n",
       "      <td>Women Backpack Synthetic Leather Backpacks Sof...</td>\n",
       "      <td>Material: Synthetic LeatherLining: Polyester3 ...</td>\n",
       "      <td>{Black: 17.66, Grey: 17.66, Red: 17.66}</td>\n",
       "      <td>17.66</td>\n",
       "      <td>300</td>\n",
       "      <td>Bags &amp; Luggage</td>\n",
       "      <td>1</td>\n",
       "      <td>0</td>\n",
       "      <td>0</td>\n",
       "      <td>2018-01-05 16:02:41</td>\n",
       "    </tr>\n",
       "    <tr>\n",
       "      <th>12</th>\n",
       "      <td>809427305</td>\n",
       "      <td>49082000</td>\n",
       "      <td>Women Backpack Synthetic Leather Backpacks Sof...</td>\n",
       "      <td>Material: Synthetic LeatherLining: Polyester3 ...</td>\n",
       "      <td>{Pink: 17.99, Black: 17.99, Grey: 17.99}</td>\n",
       "      <td>17.99</td>\n",
       "      <td>300</td>\n",
       "      <td>Bags &amp; Luggage</td>\n",
       "      <td>1</td>\n",
       "      <td>0</td>\n",
       "      <td>0</td>\n",
       "      <td>2018-01-05 16:02:41</td>\n",
       "    </tr>\n",
       "  </tbody>\n",
       "</table>\n",
       "</div>"
      ],
      "text/plain": [
       "       itemid    shopid                                          item_name  \\\n",
       "8   793229430  49082000  Women Lace Bra Bustier Crop Tops Soft Mesh Tri...   \n",
       "9   809446063  49082000  Women Lace Bra Bustier Crop Tops Soft Mesh Tri...   \n",
       "10  809446145  49082000  Women Lace Bra Bustier Crop Tops Soft Mesh Tri...   \n",
       "11  809427287  49082000  Women Backpack Synthetic Leather Backpacks Sof...   \n",
       "12  809427305  49082000  Women Backpack Synthetic Leather Backpacks Sof...   \n",
       "\n",
       "                                     item_description  \\\n",
       "8   Material: Terylene Colors: BalckStyle: Sexy Br...   \n",
       "9   Material: Terylene Colors: BalckStyle: Sexy Br...   \n",
       "10  Colors: BalckStyle: Sexy BraSize Type: Regular...   \n",
       "11  Material: Synthetic LeatherLining: Polyester3 ...   \n",
       "12  Material: Synthetic LeatherLining: Polyester3 ...   \n",
       "\n",
       "                               item_variation  price  stock         category  \\\n",
       "8       {S: 9.98, M: 9.98, L: 9.98, XL: 9.98}   9.98    400  Women's Apparel   \n",
       "9                 {S: 9.98, M: 9.98, L: 9.98}   9.98    300  Women's Apparel   \n",
       "10  {S: 11.48, M: 11.48, L: 11.48, XL: 11.48}  11.48    400  Women's Apparel   \n",
       "11    {Black: 17.66, Grey: 17.66, Red: 17.66}  17.66    300   Bags & Luggage   \n",
       "12   {Pink: 17.99, Black: 17.99, Grey: 17.99}  17.99    300   Bags & Luggage   \n",
       "\n",
       "    cb_option  is_preferred  sold_count  item_creation_time  \n",
       "8           1             0           0 2017-12-28 19:55:45  \n",
       "9           1             0           0 2018-01-05 16:08:24  \n",
       "10          1             0           0 2018-01-05 16:08:26  \n",
       "11          1             0           0 2018-01-05 16:02:41  \n",
       "12          1             0           0 2018-01-05 16:02:41  "
      ]
     },
     "execution_count": 42,
     "metadata": {},
     "output_type": "execute_result"
    }
   ],
   "source": [
    "cb_np = df[(df['cb_option'] == 1) & (df['is_preferred']==0)]\n",
    "cb_np.head()"
   ]
  },
  {
   "cell_type": "code",
   "execution_count": 43,
   "id": "94d354ca",
   "metadata": {},
   "outputs": [
    {
     "name": "stdout",
     "output_type": "stream",
     "text": [
      "The number of shops that are cross bordered but not preferred are : 42391\n"
     ]
    }
   ],
   "source": [
    "print(\"The number of shops that are cross bordered but not preferred are :\", len(cb_np))"
   ]
  },
  {
   "cell_type": "markdown",
   "id": "94c65432",
   "metadata": {},
   "source": [
    " ## 3. Write an excel formula to get the item_creation_time of item 874013437."
   ]
  },
  {
   "cell_type": "code",
   "execution_count": 44,
   "id": "1c677856",
   "metadata": {},
   "outputs": [
    {
     "data": {
      "text/plain": [
       "41   2018-01-28 13:40:27\n",
       "Name: item_creation_time, dtype: datetime64[ns]"
      ]
     },
     "execution_count": 44,
     "metadata": {},
     "output_type": "execute_result"
    }
   ],
   "source": [
    "df[(df['itemid']==874013437)]['item_creation_time']"
   ]
  },
  {
   "cell_type": "markdown",
   "id": "8fd3e02b",
   "metadata": {},
   "source": [
    "## 4. Create a new column called item_creation_date by extracting only the date from item_creation_time column."
   ]
  },
  {
   "cell_type": "code",
   "execution_count": 45,
   "id": "e5708487",
   "metadata": {},
   "outputs": [],
   "source": [
    "from datetime import datetime\n",
    "df[\"item_creation_date\"] = [d.date() for d in df[\"item_creation_time\"]]"
   ]
  },
  {
   "cell_type": "code",
   "execution_count": 46,
   "id": "6029eff3",
   "metadata": {},
   "outputs": [
    {
     "data": {
      "text/html": [
       "<div>\n",
       "<style scoped>\n",
       "    .dataframe tbody tr th:only-of-type {\n",
       "        vertical-align: middle;\n",
       "    }\n",
       "\n",
       "    .dataframe tbody tr th {\n",
       "        vertical-align: top;\n",
       "    }\n",
       "\n",
       "    .dataframe thead th {\n",
       "        text-align: right;\n",
       "    }\n",
       "</style>\n",
       "<table border=\"1\" class=\"dataframe\">\n",
       "  <thead>\n",
       "    <tr style=\"text-align: right;\">\n",
       "      <th></th>\n",
       "      <th>itemid</th>\n",
       "      <th>shopid</th>\n",
       "      <th>item_name</th>\n",
       "      <th>item_description</th>\n",
       "      <th>item_variation</th>\n",
       "      <th>price</th>\n",
       "      <th>stock</th>\n",
       "      <th>category</th>\n",
       "      <th>cb_option</th>\n",
       "      <th>is_preferred</th>\n",
       "      <th>sold_count</th>\n",
       "      <th>item_creation_time</th>\n",
       "      <th>item_creation_date</th>\n",
       "    </tr>\n",
       "  </thead>\n",
       "  <tbody>\n",
       "    <tr>\n",
       "      <th>0</th>\n",
       "      <td>1925574</td>\n",
       "      <td>210000</td>\n",
       "      <td>Golden mobile numbers</td>\n",
       "      <td>Unregistered prepaid cards1) 93355333  selling...</td>\n",
       "      <td>{}</td>\n",
       "      <td>400.0</td>\n",
       "      <td>1</td>\n",
       "      <td>Mobile &amp; Gadgets</td>\n",
       "      <td>0</td>\n",
       "      <td>0</td>\n",
       "      <td>0</td>\n",
       "      <td>2015-10-01 00:24:42</td>\n",
       "      <td>2015-10-01</td>\n",
       "    </tr>\n",
       "    <tr>\n",
       "      <th>1</th>\n",
       "      <td>1925617</td>\n",
       "      <td>210000</td>\n",
       "      <td>Golden mobile numbers</td>\n",
       "      <td>Unregistered prepaid cards1) 93355888  selling...</td>\n",
       "      <td>{}</td>\n",
       "      <td>400.0</td>\n",
       "      <td>1</td>\n",
       "      <td>Mobile &amp; Gadgets</td>\n",
       "      <td>0</td>\n",
       "      <td>0</td>\n",
       "      <td>0</td>\n",
       "      <td>2015-10-01 00:26:37</td>\n",
       "      <td>2015-10-01</td>\n",
       "    </tr>\n",
       "    <tr>\n",
       "      <th>2</th>\n",
       "      <td>943600</td>\n",
       "      <td>210000</td>\n",
       "      <td>Golden Mobile Numbers</td>\n",
       "      <td>Unregistered prepaid cards. Can port to post p...</td>\n",
       "      <td>{}</td>\n",
       "      <td>8.0</td>\n",
       "      <td>1</td>\n",
       "      <td>Mobile &amp; Gadgets</td>\n",
       "      <td>0</td>\n",
       "      <td>0</td>\n",
       "      <td>0</td>\n",
       "      <td>2015-08-25 21:02:13</td>\n",
       "      <td>2015-08-25</td>\n",
       "    </tr>\n",
       "    <tr>\n",
       "      <th>3</th>\n",
       "      <td>1064405</td>\n",
       "      <td>210000</td>\n",
       "      <td>Golden Mobile Numbers</td>\n",
       "      <td>Unregistered prepaid cards. Can port to post p...</td>\n",
       "      <td>{}</td>\n",
       "      <td>8.0</td>\n",
       "      <td>1</td>\n",
       "      <td>Mobile &amp; Gadgets</td>\n",
       "      <td>0</td>\n",
       "      <td>0</td>\n",
       "      <td>0</td>\n",
       "      <td>2015-08-30 20:16:07</td>\n",
       "      <td>2015-08-30</td>\n",
       "    </tr>\n",
       "    <tr>\n",
       "      <th>4</th>\n",
       "      <td>20046620</td>\n",
       "      <td>760000</td>\n",
       "      <td>101% AUTHENTIC BASEBALL CAPS</td>\n",
       "      <td>PREORDER Takes about 23 weeks to arrive, will ...</td>\n",
       "      <td>{NEWERA BLACK: 35.0, NIKE SWOOSH DENIM: 35.0, ...</td>\n",
       "      <td>35.0</td>\n",
       "      <td>300</td>\n",
       "      <td>Women's Apparel</td>\n",
       "      <td>0</td>\n",
       "      <td>0</td>\n",
       "      <td>0</td>\n",
       "      <td>2016-05-09 01:14:34</td>\n",
       "      <td>2016-05-09</td>\n",
       "    </tr>\n",
       "  </tbody>\n",
       "</table>\n",
       "</div>"
      ],
      "text/plain": [
       "     itemid  shopid                     item_name  \\\n",
       "0   1925574  210000         Golden mobile numbers   \n",
       "1   1925617  210000         Golden mobile numbers   \n",
       "2    943600  210000         Golden Mobile Numbers   \n",
       "3   1064405  210000         Golden Mobile Numbers   \n",
       "4  20046620  760000  101% AUTHENTIC BASEBALL CAPS   \n",
       "\n",
       "                                    item_description  \\\n",
       "0  Unregistered prepaid cards1) 93355333  selling...   \n",
       "1  Unregistered prepaid cards1) 93355888  selling...   \n",
       "2  Unregistered prepaid cards. Can port to post p...   \n",
       "3  Unregistered prepaid cards. Can port to post p...   \n",
       "4  PREORDER Takes about 23 weeks to arrive, will ...   \n",
       "\n",
       "                                      item_variation  price  stock  \\\n",
       "0                                                 {}  400.0      1   \n",
       "1                                                 {}  400.0      1   \n",
       "2                                                 {}    8.0      1   \n",
       "3                                                 {}    8.0      1   \n",
       "4  {NEWERA BLACK: 35.0, NIKE SWOOSH DENIM: 35.0, ...   35.0    300   \n",
       "\n",
       "           category  cb_option  is_preferred  sold_count  item_creation_time  \\\n",
       "0  Mobile & Gadgets          0             0           0 2015-10-01 00:24:42   \n",
       "1  Mobile & Gadgets          0             0           0 2015-10-01 00:26:37   \n",
       "2  Mobile & Gadgets          0             0           0 2015-08-25 21:02:13   \n",
       "3  Mobile & Gadgets          0             0           0 2015-08-30 20:16:07   \n",
       "4   Women's Apparel          0             0           0 2016-05-09 01:14:34   \n",
       "\n",
       "  item_creation_date  \n",
       "0         2015-10-01  \n",
       "1         2015-10-01  \n",
       "2         2015-08-25  \n",
       "3         2015-08-30  \n",
       "4         2016-05-09  "
      ]
     },
     "execution_count": 46,
     "metadata": {},
     "output_type": "execute_result"
    }
   ],
   "source": [
    "df.head()"
   ]
  },
  {
   "cell_type": "markdown",
   "id": "b3cbbbdd",
   "metadata": {},
   "source": [
    "## Number of unique item sold"
   ]
  },
  {
   "cell_type": "code",
   "execution_count": 47,
   "id": "cd2caee2",
   "metadata": {},
   "outputs": [
    {
     "data": {
      "text/plain": [
       "array(['101% AUTHENTIC BASEBALL CAPS',\n",
       "       'Hada Labo Super Hydrating Perfect Gel Moisturizer 80g',\n",
       "       'Nopierce Septum Ring', ...,\n",
       "       'Tshirt short sleeve BATMAN character pattern cool popular mens T shirt jersey',\n",
       "       'Guys TShirt O Neck Heat On The Street Nostalgic Men T shirt Funny Plus Size',\n",
       "       'FUNNY PHYSICS S SCIENCE mens Tshirt cotton Fashion Brand t shirt men new DIY'],\n",
       "      dtype=object)"
      ]
     },
     "execution_count": 47,
     "metadata": {},
     "output_type": "execute_result"
    }
   ],
   "source": [
    "unique_item_sold = df[df['sold_count']>0]['item_name'].unique()\n",
    "unique_item_sold"
   ]
  },
  {
   "cell_type": "code",
   "execution_count": 48,
   "id": "cd9e5352",
   "metadata": {},
   "outputs": [
    {
     "name": "stdout",
     "output_type": "stream",
     "text": [
      "Number of unique items sold: 1848\n"
     ]
    }
   ],
   "source": [
    "print(\"Number of unique items sold:\", len(unique_item_sold))"
   ]
  },
  {
   "cell_type": "markdown",
   "id": "752f1e16",
   "metadata": {},
   "source": [
    "## Total sold count"
   ]
  },
  {
   "cell_type": "code",
   "execution_count": 49,
   "id": "aa7e354b",
   "metadata": {},
   "outputs": [
    {
     "name": "stdout",
     "output_type": "stream",
     "text": [
      "Total sold count is : 12075\n"
     ]
    }
   ],
   "source": [
    "print(\"Total sold count is :\", df['sold_count'].sum())"
   ]
  },
  {
   "cell_type": "markdown",
   "id": "acf9a407",
   "metadata": {},
   "source": [
    "## Total revenue"
   ]
  },
  {
   "cell_type": "code",
   "execution_count": 50,
   "id": "801a505c",
   "metadata": {},
   "outputs": [
    {
     "name": "stdout",
     "output_type": "stream",
     "text": [
      "The total revenue is : 116937.87999999998\n"
     ]
    }
   ],
   "source": [
    "df['revenue'] = (df['price'] * df['sold_count'])\n",
    "print(\"The total revenue is :\", df['revenue'].sum())"
   ]
  },
  {
   "cell_type": "code",
   "execution_count": 51,
   "id": "18bda2c4",
   "metadata": {},
   "outputs": [
    {
     "data": {
      "text/plain": [
       "2018-03-24    1699\n",
       "2018-03-07    1122\n",
       "2016-12-27     965\n",
       "2016-09-21     809\n",
       "2017-10-28     783\n",
       "              ... \n",
       "2016-02-05       1\n",
       "2016-01-23       1\n",
       "2015-12-07       1\n",
       "2016-03-05       1\n",
       "2016-03-28       1\n",
       "Name: item_creation_date, Length: 972, dtype: int64"
      ]
     },
     "execution_count": 51,
     "metadata": {},
     "output_type": "execute_result"
    }
   ],
   "source": [
    "df.item_creation_date.value_counts()"
   ]
  },
  {
   "cell_type": "markdown",
   "id": "c4458362",
   "metadata": {},
   "source": [
    "## Distinct count of item creation date"
   ]
  },
  {
   "cell_type": "code",
   "execution_count": 52,
   "id": "d6ddcee3",
   "metadata": {},
   "outputs": [
    {
     "name": "stdout",
     "output_type": "stream",
     "text": [
      "The distinct count of item creation date is : 972\n"
     ]
    }
   ],
   "source": [
    "print(\"The distinct count of item creation date is :\", len(df.item_creation_date.value_counts()))"
   ]
  },
  {
   "cell_type": "markdown",
   "id": "3d405275",
   "metadata": {},
   "source": [
    "## Group by categories"
   ]
  },
  {
   "cell_type": "code",
   "execution_count": 53,
   "id": "b53277d3",
   "metadata": {},
   "outputs": [
    {
     "data": {
      "text/plain": [
       "category\n",
       "Bags & Luggage              3575792\n",
       "Computers & Peripherals      633513\n",
       "Design & Crafts             1379105\n",
       "Food & Beverages                316\n",
       "Games & Hobbies              295134\n",
       "Health & Beauty             3958343\n",
       "Home & Living              10167597\n",
       "Home Appliances              155612\n",
       "Jewellery & Accessories     3981988\n",
       "Men's Shoes                 6326935\n",
       "Men's Wear                 17661986\n",
       "Miscellaneous               4507380\n",
       "Mobile & Gadgets           14453962\n",
       "Pet Accessories             1063400\n",
       "Sports & Outdoors           1956421\n",
       "Tickets & Vouchers                0\n",
       "Toys, Kids & Babies         7111559\n",
       "Watches                      893124\n",
       "Women's Apparel            27649124\n",
       "Women's Shoes              35436299\n",
       "Name: stock, dtype: int64"
      ]
     },
     "execution_count": 53,
     "metadata": {},
     "output_type": "execute_result"
    }
   ],
   "source": [
    "df.groupby('category')['stock'].sum()"
   ]
  },
  {
   "cell_type": "markdown",
   "id": "ca361fdc",
   "metadata": {},
   "source": [
    "## 5. What else can you tell us about this dataset? It can be any exploratory analysis that you think is interesting. Please support your findings with any table / chart."
   ]
  },
  {
   "cell_type": "code",
   "execution_count": 54,
   "id": "afe4d373",
   "metadata": {},
   "outputs": [
    {
     "data": {
      "text/plain": [
       "<AxesSubplot:xlabel='category'>"
      ]
     },
     "execution_count": 54,
     "metadata": {},
     "output_type": "execute_result"
    },
    {
     "data": {
      "image/png": "[encoded data removed]",
      "text/plain": [
       "<Figure size 432x288 with 1 Axes>"
      ]
     },
     "metadata": {
      "needs_background": "light"
     },
     "output_type": "display_data"
    }
   ],
   "source": [
    "df.groupby('category')['revenue'].sum().plot(kind='bar')"
   ]
  },
  {
   "cell_type": "markdown",
   "id": "d61b46de",
   "metadata": {},
   "source": [
    "## What is the most expensive item?"
   ]
  },
  {
   "cell_type": "code",
   "execution_count": 55,
   "id": "48dda293",
   "metadata": {},
   "outputs": [
    {
     "data": {
      "text/html": [
       "<div>\n",
       "<style scoped>\n",
       "    .dataframe tbody tr th:only-of-type {\n",
       "        vertical-align: middle;\n",
       "    }\n",
       "\n",
       "    .dataframe tbody tr th {\n",
       "        vertical-align: top;\n",
       "    }\n",
       "\n",
       "    .dataframe thead th {\n",
       "        text-align: right;\n",
       "    }\n",
       "</style>\n",
       "<table border=\"1\" class=\"dataframe\">\n",
       "  <thead>\n",
       "    <tr style=\"text-align: right;\">\n",
       "      <th></th>\n",
       "      <th>item_name</th>\n",
       "      <th>price</th>\n",
       "    </tr>\n",
       "  </thead>\n",
       "  <tbody>\n",
       "    <tr>\n",
       "      <th>47517</th>\n",
       "      <td>Balo đựng Macbook 15inch Tucano Blue</td>\n",
       "      <td>1390000.0</td>\n",
       "    </tr>\n",
       "    <tr>\n",
       "      <th>47518</th>\n",
       "      <td>Balo đựng Macbook 15inch Tucano Blue</td>\n",
       "      <td>1390000.0</td>\n",
       "    </tr>\n",
       "  </tbody>\n",
       "</table>\n",
       "</div>"
      ],
      "text/plain": [
       "                                  item_name      price\n",
       "47517  Balo đựng Macbook 15inch Tucano Blue  1390000.0\n",
       "47518  Balo đựng Macbook 15inch Tucano Blue  1390000.0"
      ]
     },
     "execution_count": 55,
     "metadata": {},
     "output_type": "execute_result"
    }
   ],
   "source": [
    "df[df['price'] == df.price.max()][['item_name', 'price']]"
   ]
  },
  {
   "cell_type": "markdown",
   "id": "6c6a0ad3",
   "metadata": {},
   "source": [
    "## What is the cheapest item and which store sells it?"
   ]
  },
  {
   "cell_type": "code",
   "execution_count": 56,
   "id": "f47611ef",
   "metadata": {},
   "outputs": [
    {
     "data": {
      "text/html": [
       "<div>\n",
       "<style scoped>\n",
       "    .dataframe tbody tr th:only-of-type {\n",
       "        vertical-align: middle;\n",
       "    }\n",
       "\n",
       "    .dataframe tbody tr th {\n",
       "        vertical-align: top;\n",
       "    }\n",
       "\n",
       "    .dataframe thead th {\n",
       "        text-align: right;\n",
       "    }\n",
       "</style>\n",
       "<table border=\"1\" class=\"dataframe\">\n",
       "  <thead>\n",
       "    <tr style=\"text-align: right;\">\n",
       "      <th></th>\n",
       "      <th>shopid</th>\n",
       "      <th>item_name</th>\n",
       "      <th>price</th>\n",
       "    </tr>\n",
       "  </thead>\n",
       "  <tbody>\n",
       "    <tr>\n",
       "      <th>5487</th>\n",
       "      <td>739014</td>\n",
       "      <td>Organza Drawstring Pouches/Organza Bag</td>\n",
       "      <td>0.13</td>\n",
       "    </tr>\n",
       "    <tr>\n",
       "      <th>5488</th>\n",
       "      <td>739014</td>\n",
       "      <td>Organza Drawstring Pouches/Organza Bag</td>\n",
       "      <td>0.13</td>\n",
       "    </tr>\n",
       "    <tr>\n",
       "      <th>5489</th>\n",
       "      <td>739014</td>\n",
       "      <td>Organza Drawstring Pouches/Organza Bag</td>\n",
       "      <td>0.13</td>\n",
       "    </tr>\n",
       "    <tr>\n",
       "      <th>5490</th>\n",
       "      <td>739014</td>\n",
       "      <td>Organza Drawstring Pouches/Organza Bag</td>\n",
       "      <td>0.13</td>\n",
       "    </tr>\n",
       "    <tr>\n",
       "      <th>5491</th>\n",
       "      <td>739014</td>\n",
       "      <td>Organza Drawstring Pouches/Organza Bag</td>\n",
       "      <td>0.13</td>\n",
       "    </tr>\n",
       "    <tr>\n",
       "      <th>5493</th>\n",
       "      <td>739014</td>\n",
       "      <td>Organza Drawstring Pouches/Organza Bag</td>\n",
       "      <td>0.13</td>\n",
       "    </tr>\n",
       "    <tr>\n",
       "      <th>5494</th>\n",
       "      <td>739014</td>\n",
       "      <td>Organza Drawstring Pouches/Organza Bag</td>\n",
       "      <td>0.13</td>\n",
       "    </tr>\n",
       "    <tr>\n",
       "      <th>5495</th>\n",
       "      <td>739014</td>\n",
       "      <td>Organza Drawstring Pouches/Organza Bag</td>\n",
       "      <td>0.13</td>\n",
       "    </tr>\n",
       "    <tr>\n",
       "      <th>38115</th>\n",
       "      <td>60488110</td>\n",
       "      <td>【BLNGaming】Silicone Joystick Thumb Caps for PS...</td>\n",
       "      <td>0.13</td>\n",
       "    </tr>\n",
       "    <tr>\n",
       "      <th>38301</th>\n",
       "      <td>60488110</td>\n",
       "      <td>【BLNGaming】Silicone Joystick Thumb Caps for PS...</td>\n",
       "      <td>0.13</td>\n",
       "    </tr>\n",
       "    <tr>\n",
       "      <th>38371</th>\n",
       "      <td>60488110</td>\n",
       "      <td>【BLNGaming】Silicone Joystick Thumb Caps for PS...</td>\n",
       "      <td>0.13</td>\n",
       "    </tr>\n",
       "    <tr>\n",
       "      <th>38379</th>\n",
       "      <td>60488110</td>\n",
       "      <td>【BLNGaming】Silicone Joystick Thumb Caps for PS...</td>\n",
       "      <td>0.13</td>\n",
       "    </tr>\n",
       "    <tr>\n",
       "      <th>38380</th>\n",
       "      <td>60488110</td>\n",
       "      <td>【BLNGaming】Silicone Joystick Thumb Caps for PS...</td>\n",
       "      <td>0.13</td>\n",
       "    </tr>\n",
       "  </tbody>\n",
       "</table>\n",
       "</div>"
      ],
      "text/plain": [
       "         shopid                                          item_name  price\n",
       "5487     739014             Organza Drawstring Pouches/Organza Bag   0.13\n",
       "5488     739014             Organza Drawstring Pouches/Organza Bag   0.13\n",
       "5489     739014             Organza Drawstring Pouches/Organza Bag   0.13\n",
       "5490     739014             Organza Drawstring Pouches/Organza Bag   0.13\n",
       "5491     739014             Organza Drawstring Pouches/Organza Bag   0.13\n",
       "5493     739014             Organza Drawstring Pouches/Organza Bag   0.13\n",
       "5494     739014             Organza Drawstring Pouches/Organza Bag   0.13\n",
       "5495     739014             Organza Drawstring Pouches/Organza Bag   0.13\n",
       "38115  60488110  【BLNGaming】Silicone Joystick Thumb Caps for PS...   0.13\n",
       "38301  60488110  【BLNGaming】Silicone Joystick Thumb Caps for PS...   0.13\n",
       "38371  60488110  【BLNGaming】Silicone Joystick Thumb Caps for PS...   0.13\n",
       "38379  60488110  【BLNGaming】Silicone Joystick Thumb Caps for PS...   0.13\n",
       "38380  60488110  【BLNGaming】Silicone Joystick Thumb Caps for PS...   0.13"
      ]
     },
     "execution_count": 56,
     "metadata": {},
     "output_type": "execute_result"
    }
   ],
   "source": [
    "df[df['price'] == df.price.min()][['shopid', 'item_name', 'price']]"
   ]
  },
  {
   "cell_type": "markdown",
   "id": "9016c5d1",
   "metadata": {},
   "source": [
    "## For each category, which shops deal in that product"
   ]
  },
  {
   "cell_type": "code",
   "execution_count": 57,
   "id": "db71c7f3",
   "metadata": {},
   "outputs": [
    {
     "data": {
      "text/html": [
       "<div>\n",
       "<style scoped>\n",
       "    .dataframe tbody tr th:only-of-type {\n",
       "        vertical-align: middle;\n",
       "    }\n",
       "\n",
       "    .dataframe tbody tr th {\n",
       "        vertical-align: top;\n",
       "    }\n",
       "\n",
       "    .dataframe thead th {\n",
       "        text-align: right;\n",
       "    }\n",
       "</style>\n",
       "<table border=\"1\" class=\"dataframe\">\n",
       "  <thead>\n",
       "    <tr style=\"text-align: right;\">\n",
       "      <th></th>\n",
       "      <th>shopid</th>\n",
       "      <th>item_name</th>\n",
       "      <th>price</th>\n",
       "    </tr>\n",
       "  </thead>\n",
       "  <tbody>\n",
       "    <tr>\n",
       "      <th>615</th>\n",
       "      <td>5434003</td>\n",
       "      <td>Wired optical mouse</td>\n",
       "      <td>8.00</td>\n",
       "    </tr>\n",
       "    <tr>\n",
       "      <th>616</th>\n",
       "      <td>5434003</td>\n",
       "      <td>Wired optical mouse</td>\n",
       "      <td>8.00</td>\n",
       "    </tr>\n",
       "    <tr>\n",
       "      <th>617</th>\n",
       "      <td>5434003</td>\n",
       "      <td>Micro SD Memory USB Card Reader</td>\n",
       "      <td>4.00</td>\n",
       "    </tr>\n",
       "    <tr>\n",
       "      <th>618</th>\n",
       "      <td>5434003</td>\n",
       "      <td>Micro SD Memory USB Card Reader</td>\n",
       "      <td>4.00</td>\n",
       "    </tr>\n",
       "    <tr>\n",
       "      <th>619</th>\n",
       "      <td>5434003</td>\n",
       "      <td>Micro SD Memory USB Card Reader</td>\n",
       "      <td>4.00</td>\n",
       "    </tr>\n",
       "    <tr>\n",
       "      <th>...</th>\n",
       "      <td>...</td>\n",
       "      <td>...</td>\n",
       "      <td>...</td>\n",
       "    </tr>\n",
       "    <tr>\n",
       "      <th>43104</th>\n",
       "      <td>27584121</td>\n",
       "      <td>Embroidered shirt 💋Print fashion shirt long sl...</td>\n",
       "      <td>7.32</td>\n",
       "    </tr>\n",
       "    <tr>\n",
       "      <th>43793</th>\n",
       "      <td>10203122</td>\n",
       "      <td>Power Supply Buck Converter Step Down Module</td>\n",
       "      <td>3.17</td>\n",
       "    </tr>\n",
       "    <tr>\n",
       "      <th>43794</th>\n",
       "      <td>10203122</td>\n",
       "      <td>Power Supply Buck Converter Step Down Module</td>\n",
       "      <td>3.88</td>\n",
       "    </tr>\n",
       "    <tr>\n",
       "      <th>47517</th>\n",
       "      <td>8505123</td>\n",
       "      <td>Balo đựng Macbook 15inch Tucano Blue</td>\n",
       "      <td>1390000.00</td>\n",
       "    </tr>\n",
       "    <tr>\n",
       "      <th>47518</th>\n",
       "      <td>8505123</td>\n",
       "      <td>Balo đựng Macbook 15inch Tucano Blue</td>\n",
       "      <td>1390000.00</td>\n",
       "    </tr>\n",
       "  </tbody>\n",
       "</table>\n",
       "<p>368 rows × 3 columns</p>\n",
       "</div>"
      ],
      "text/plain": [
       "         shopid                                          item_name       price\n",
       "615     5434003                                Wired optical mouse        8.00\n",
       "616     5434003                                Wired optical mouse        8.00\n",
       "617     5434003                    Micro SD Memory USB Card Reader        4.00\n",
       "618     5434003                    Micro SD Memory USB Card Reader        4.00\n",
       "619     5434003                    Micro SD Memory USB Card Reader        4.00\n",
       "...         ...                                                ...         ...\n",
       "43104  27584121  Embroidered shirt 💋Print fashion shirt long sl...        7.32\n",
       "43793  10203122       Power Supply Buck Converter Step Down Module        3.17\n",
       "43794  10203122       Power Supply Buck Converter Step Down Module        3.88\n",
       "47517   8505123               Balo đựng Macbook 15inch Tucano Blue  1390000.00\n",
       "47518   8505123               Balo đựng Macbook 15inch Tucano Blue  1390000.00\n",
       "\n",
       "[368 rows x 3 columns]"
      ]
     },
     "execution_count": 57,
     "metadata": {},
     "output_type": "execute_result"
    }
   ],
   "source": [
    "def get_shop(df:pd.DataFrame, category:str) -> pd.DataFrame:\n",
    "    return df[df['category'] == category][['shopid', 'item_name', 'price']]\n",
    "\n",
    "get_shop(df, 'Computers & Peripherals')"
   ]
  },
  {
   "cell_type": "code",
   "execution_count": 58,
   "id": "c5209441",
   "metadata": {},
   "outputs": [
    {
     "data": {
      "text/html": [
       "<div>\n",
       "<style scoped>\n",
       "    .dataframe tbody tr th:only-of-type {\n",
       "        vertical-align: middle;\n",
       "    }\n",
       "\n",
       "    .dataframe tbody tr th {\n",
       "        vertical-align: top;\n",
       "    }\n",
       "\n",
       "    .dataframe thead th {\n",
       "        text-align: right;\n",
       "    }\n",
       "</style>\n",
       "<table border=\"1\" class=\"dataframe\">\n",
       "  <thead>\n",
       "    <tr style=\"text-align: right;\">\n",
       "      <th></th>\n",
       "      <th>itemid</th>\n",
       "      <th>shopid</th>\n",
       "      <th>item_name</th>\n",
       "      <th>item_description</th>\n",
       "      <th>item_variation</th>\n",
       "      <th>price</th>\n",
       "      <th>stock</th>\n",
       "      <th>category</th>\n",
       "      <th>cb_option</th>\n",
       "      <th>is_preferred</th>\n",
       "      <th>sold_count</th>\n",
       "      <th>item_creation_time</th>\n",
       "      <th>item_creation_date</th>\n",
       "      <th>revenue</th>\n",
       "    </tr>\n",
       "  </thead>\n",
       "  <tbody>\n",
       "    <tr>\n",
       "      <th>6</th>\n",
       "      <td>78419076</td>\n",
       "      <td>11272000</td>\n",
       "      <td>Hada Labo Super Hydrating Perfect Gel Moisturi...</td>\n",
       "      <td>Hada Labo Super Hydrating Perfect Gel Moisturi...</td>\n",
       "      <td>{Hydratg UV: 28.72, Super Hydg: 28.72, Whiteni...</td>\n",
       "      <td>28.72</td>\n",
       "      <td>8</td>\n",
       "      <td>Health &amp; Beauty</td>\n",
       "      <td>0</td>\n",
       "      <td>1</td>\n",
       "      <td>5</td>\n",
       "      <td>2016-10-20 11:17:41</td>\n",
       "      <td>2016-10-20</td>\n",
       "      <td>143.60</td>\n",
       "    </tr>\n",
       "    <tr>\n",
       "      <th>7</th>\n",
       "      <td>252736983</td>\n",
       "      <td>11272000</td>\n",
       "      <td>Hada Labo Super Hydrating Perfect Gel Moisturi...</td>\n",
       "      <td>Hada Labo is a skin care line researched &amp; dev...</td>\n",
       "      <td>{}</td>\n",
       "      <td>28.72</td>\n",
       "      <td>8</td>\n",
       "      <td>Health &amp; Beauty</td>\n",
       "      <td>0</td>\n",
       "      <td>1</td>\n",
       "      <td>1</td>\n",
       "      <td>2017-05-09 18:33:30</td>\n",
       "      <td>2017-05-09</td>\n",
       "      <td>28.72</td>\n",
       "    </tr>\n",
       "    <tr>\n",
       "      <th>626</th>\n",
       "      <td>501083679</td>\n",
       "      <td>3021003</td>\n",
       "      <td>Painless Bikini Waxing, Hard Wax Beans</td>\n",
       "      <td>Type:Hair Removal WaxFlavour:Strawberry /Honey...</td>\n",
       "      <td>{Rose: 9.99, Tea tree: 9.99, Chocolate: 9.99, ...</td>\n",
       "      <td>9.99</td>\n",
       "      <td>60</td>\n",
       "      <td>Health &amp; Beauty</td>\n",
       "      <td>0</td>\n",
       "      <td>0</td>\n",
       "      <td>0</td>\n",
       "      <td>2017-09-19 10:27:33</td>\n",
       "      <td>2017-09-19</td>\n",
       "      <td>0.00</td>\n",
       "    </tr>\n",
       "    <tr>\n",
       "      <th>627</th>\n",
       "      <td>501683130</td>\n",
       "      <td>3021003</td>\n",
       "      <td>Painless Bikini Waxing, Hard Wax Beans</td>\n",
       "      <td>Type:Hair Removal WaxFlavour:Strawberry /Honey...</td>\n",
       "      <td>{Coffee: 7.99, Apple: 7.99, Rose: 7.99, Lavend...</td>\n",
       "      <td>7.99</td>\n",
       "      <td>80</td>\n",
       "      <td>Health &amp; Beauty</td>\n",
       "      <td>0</td>\n",
       "      <td>0</td>\n",
       "      <td>0</td>\n",
       "      <td>2017-09-19 13:12:01</td>\n",
       "      <td>2017-09-19</td>\n",
       "      <td>0.00</td>\n",
       "    </tr>\n",
       "    <tr>\n",
       "      <th>866</th>\n",
       "      <td>3699589</td>\n",
       "      <td>1103003</td>\n",
       "      <td>MONTHS TOOTHBRUSH SET /IZOLA</td>\n",
       "      <td>DETAILSMade of sustainable bamboo and nylon br...</td>\n",
       "      <td>{}</td>\n",
       "      <td>21.00</td>\n",
       "      <td>1</td>\n",
       "      <td>Health &amp; Beauty</td>\n",
       "      <td>0</td>\n",
       "      <td>0</td>\n",
       "      <td>0</td>\n",
       "      <td>2015-11-18 17:30:17</td>\n",
       "      <td>2015-11-18</td>\n",
       "      <td>0.00</td>\n",
       "    </tr>\n",
       "  </tbody>\n",
       "</table>\n",
       "</div>"
      ],
      "text/plain": [
       "        itemid    shopid                                          item_name  \\\n",
       "6     78419076  11272000  Hada Labo Super Hydrating Perfect Gel Moisturi...   \n",
       "7    252736983  11272000  Hada Labo Super Hydrating Perfect Gel Moisturi...   \n",
       "626  501083679   3021003             Painless Bikini Waxing, Hard Wax Beans   \n",
       "627  501683130   3021003             Painless Bikini Waxing, Hard Wax Beans   \n",
       "866    3699589   1103003                       MONTHS TOOTHBRUSH SET /IZOLA   \n",
       "\n",
       "                                      item_description  \\\n",
       "6    Hada Labo Super Hydrating Perfect Gel Moisturi...   \n",
       "7    Hada Labo is a skin care line researched & dev...   \n",
       "626  Type:Hair Removal WaxFlavour:Strawberry /Honey...   \n",
       "627  Type:Hair Removal WaxFlavour:Strawberry /Honey...   \n",
       "866  DETAILSMade of sustainable bamboo and nylon br...   \n",
       "\n",
       "                                        item_variation  price  stock  \\\n",
       "6    {Hydratg UV: 28.72, Super Hydg: 28.72, Whiteni...  28.72      8   \n",
       "7                                                   {}  28.72      8   \n",
       "626  {Rose: 9.99, Tea tree: 9.99, Chocolate: 9.99, ...   9.99     60   \n",
       "627  {Coffee: 7.99, Apple: 7.99, Rose: 7.99, Lavend...   7.99     80   \n",
       "866                                                 {}  21.00      1   \n",
       "\n",
       "            category  cb_option  is_preferred  sold_count  item_creation_time  \\\n",
       "6    Health & Beauty          0             1           5 2016-10-20 11:17:41   \n",
       "7    Health & Beauty          0             1           1 2017-05-09 18:33:30   \n",
       "626  Health & Beauty          0             0           0 2017-09-19 10:27:33   \n",
       "627  Health & Beauty          0             0           0 2017-09-19 13:12:01   \n",
       "866  Health & Beauty          0             0           0 2015-11-18 17:30:17   \n",
       "\n",
       "    item_creation_date  revenue  \n",
       "6           2016-10-20   143.60  \n",
       "7           2017-05-09    28.72  \n",
       "626         2017-09-19     0.00  \n",
       "627         2017-09-19     0.00  \n",
       "866         2015-11-18     0.00  "
      ]
     },
     "execution_count": 58,
     "metadata": {},
     "output_type": "execute_result"
    }
   ],
   "source": [
    "df[df['category'] == 'Health & Beauty'].head()"
   ]
  },
  {
   "cell_type": "code",
   "execution_count": 59,
   "id": "523bac68",
   "metadata": {},
   "outputs": [],
   "source": [
    "# list the crossborder items"
   ]
  },
  {
   "cell_type": "code",
   "execution_count": 60,
   "id": "f5f1f8e5",
   "metadata": {},
   "outputs": [],
   "source": [
    "top_10_items = df.groupby('item_name')['revenue'].sum().reset_index().sort_values(['revenue'], \n",
    "                                                                                  ascending=False)[0:10]"
   ]
  },
  {
   "cell_type": "markdown",
   "id": "2a4a2e60",
   "metadata": {},
   "source": [
    "## Top 10 items that sold the most by revenue"
   ]
  },
  {
   "cell_type": "code",
   "execution_count": 61,
   "id": "3ace5f44",
   "metadata": {},
   "outputs": [
    {
     "name": "stderr",
     "output_type": "stream",
     "text": [
      "/Library/Frameworks/Python.framework/Versions/3.9/lib/python3.9/site-packages/matplotlib/backends/backend_agg.py:240: RuntimeWarning: Glyph 128156 missing from current font.\n",
      "  font.set_text(s, 0.0, flags=flags)\n",
      "<ipython-input-61-376b7476dbb2>:8: UserWarning: Tight layout not applied. The left and right margins cannot be made large enough to accommodate all axes decorations. \n",
      "  plt.tight_layout()\n",
      "/Library/Frameworks/Python.framework/Versions/3.9/lib/python3.9/site-packages/matplotlib/backends/backend_agg.py:203: RuntimeWarning: Glyph 128156 missing from current font.\n",
      "  font.set_text(s, 0, flags=flags)\n"
     ]
    },
    {
     "data": {
      "image/png": "[encoded data removed]",
      "text/plain": [
       "<Figure size 432x288 with 1 Axes>"
      ]
     },
     "metadata": {},
     "output_type": "display_data"
    }
   ],
   "source": [
    "slices = top_10_items['revenue']\n",
    "labels = top_10_items['item_name']\n",
    "\n",
    "plt.pie(slices, labels=labels, shadow=True,\n",
    "        startangle=90, autopct='%1.1f%%',\n",
    "        wedgeprops={'edgecolor': 'black'}, radius = 2.4)\n",
    "\n",
    "plt.tight_layout()\n",
    "plt.show()"
   ]
  },
  {
   "cell_type": "markdown",
   "id": "81b9d767",
   "metadata": {},
   "source": [
    "## Most sold items by quantity"
   ]
  },
  {
   "cell_type": "code",
   "execution_count": 62,
   "id": "bdd3e77d",
   "metadata": {},
   "outputs": [],
   "source": [
    "quantity = df.groupby('item_name')['sold_count'].sum().reset_index().sort_values(['sold_count'], ascending=False)[0:10]"
   ]
  },
  {
   "cell_type": "code",
   "execution_count": 63,
   "id": "bf656b7e",
   "metadata": {},
   "outputs": [
    {
     "name": "stderr",
     "output_type": "stream",
     "text": [
      "<ipython-input-63-27226ad6f953>:8: UserWarning: Tight layout not applied. The left and right margins cannot be made large enough to accommodate all axes decorations. \n",
      "  plt.tight_layout()\n"
     ]
    },
    {
     "data": {
      "image/png": "[encoded data removed]",
      "text/plain": [
       "<Figure size 432x288 with 1 Axes>"
      ]
     },
     "metadata": {},
     "output_type": "display_data"
    }
   ],
   "source": [
    "slices = quantity['sold_count']\n",
    "labels = quantity['item_name']\n",
    "\n",
    "plt.pie(slices, labels=labels, shadow=True,\n",
    "        startangle=90, autopct='%1.1f%%',\n",
    "        wedgeprops={'edgecolor': 'black'}, radius = 2.4)\n",
    "\n",
    "plt.tight_layout()\n",
    "plt.show()"
   ]
  },
  {
   "cell_type": "markdown",
   "id": "b7f6d214",
   "metadata": {},
   "source": [
    "## Did cross border-items generate more revenue?"
   ]
  },
  {
   "cell_type": "code",
   "execution_count": 64,
   "id": "6486de5a",
   "metadata": {},
   "outputs": [],
   "source": [
    "cb = df.groupby('cb_option')['revenue'].sum().reset_index().sort_values(['revenue'], ascending=False)[0:10]"
   ]
  },
  {
   "cell_type": "code",
   "execution_count": 65,
   "id": "157e9f2a",
   "metadata": {},
   "outputs": [
    {
     "data": {
      "text/plain": [
       "Text(0, 0.5, 'Revenue')"
      ]
     },
     "execution_count": 65,
     "metadata": {},
     "output_type": "execute_result"
    },
    {
     "data": {
      "image/png": "[encoded data removed]",
      "text/plain": [
       "<Figure size 432x288 with 1 Axes>"
      ]
     },
     "metadata": {},
     "output_type": "display_data"
    }
   ],
   "source": [
    "plt.style.use('fivethirtyeight')\n",
    "count = cb['revenue']\n",
    "cb_   = cb['cb_option'].astype(str)\n",
    "plt.bar(cb_, count, edgecolor='black')\n",
    "plt.xlabel(\"Cross Border\")\n",
    "plt.ylabel(\"Revenue\")"
   ]
  },
  {
   "cell_type": "markdown",
   "id": "43ac7b53",
   "metadata": {},
   "source": [
    "## Standard Deviation between prices of same item"
   ]
  },
  {
   "cell_type": "code",
   "execution_count": 66,
   "id": "570b2fc7",
   "metadata": {},
   "outputs": [
    {
     "data": {
      "text/html": [
       "<div>\n",
       "<style scoped>\n",
       "    .dataframe tbody tr th:only-of-type {\n",
       "        vertical-align: middle;\n",
       "    }\n",
       "\n",
       "    .dataframe tbody tr th {\n",
       "        vertical-align: top;\n",
       "    }\n",
       "\n",
       "    .dataframe thead th {\n",
       "        text-align: right;\n",
       "    }\n",
       "</style>\n",
       "<table border=\"1\" class=\"dataframe\">\n",
       "  <thead>\n",
       "    <tr style=\"text-align: right;\">\n",
       "      <th></th>\n",
       "      <th>item_name</th>\n",
       "      <th>price</th>\n",
       "    </tr>\n",
       "  </thead>\n",
       "  <tbody>\n",
       "    <tr>\n",
       "      <th>5937</th>\n",
       "      <td>LOCAL PERSONAL AND BUSINESS LOAN AVAILABLE</td>\n",
       "      <td>622253.967444</td>\n",
       "    </tr>\n",
       "    <tr>\n",
       "      <th>5670</th>\n",
       "      <td>Kids Children Girls Short Sleeve Tshirt Dress ...</td>\n",
       "      <td>57729.992425</td>\n",
       "    </tr>\n",
       "    <tr>\n",
       "      <th>3044</th>\n",
       "      <td>DIY Desktop For Gamers</td>\n",
       "      <td>1060.660172</td>\n",
       "    </tr>\n",
       "    <tr>\n",
       "      <th>10571</th>\n",
       "      <td>Watch</td>\n",
       "      <td>787.885162</td>\n",
       "    </tr>\n",
       "    <tr>\n",
       "      <th>1294</th>\n",
       "      <td>ASUS Zen Aio GOLD 23.8in AllInOne PC</td>\n",
       "      <td>712.652089</td>\n",
       "    </tr>\n",
       "    <tr>\n",
       "      <th>3045</th>\n",
       "      <td>DIY Desktop For Gamers</td>\n",
       "      <td>707.106781</td>\n",
       "    </tr>\n",
       "    <tr>\n",
       "      <th>4905</th>\n",
       "      <td>HP Folio 1040 G3 Laptop</td>\n",
       "      <td>636.396103</td>\n",
       "    </tr>\n",
       "    <tr>\n",
       "      <th>4904</th>\n",
       "      <td>HP EliteBook 840 G3 Laptop</td>\n",
       "      <td>636.396103</td>\n",
       "    </tr>\n",
       "    <tr>\n",
       "      <th>2560</th>\n",
       "      <td>Cellglo Crystal Eyes</td>\n",
       "      <td>538.108260</td>\n",
       "    </tr>\n",
       "    <tr>\n",
       "      <th>4903</th>\n",
       "      <td>HP EliteBook 820 Laptop</td>\n",
       "      <td>458.257569</td>\n",
       "    </tr>\n",
       "  </tbody>\n",
       "</table>\n",
       "</div>"
      ],
      "text/plain": [
       "                                               item_name          price\n",
       "5937          LOCAL PERSONAL AND BUSINESS LOAN AVAILABLE  622253.967444\n",
       "5670   Kids Children Girls Short Sleeve Tshirt Dress ...   57729.992425\n",
       "3044                              DIY Desktop For Gamers    1060.660172\n",
       "10571                                              Watch     787.885162\n",
       "1294                ASUS Zen Aio GOLD 23.8in AllInOne PC     712.652089\n",
       "3045                             DIY Desktop For Gamers      707.106781\n",
       "4905                             HP Folio 1040 G3 Laptop     636.396103\n",
       "4904                          HP EliteBook 840 G3 Laptop     636.396103\n",
       "2560                                Cellglo Crystal Eyes     538.108260\n",
       "4903                             HP EliteBook 820 Laptop     458.257569"
      ]
     },
     "execution_count": 66,
     "metadata": {},
     "output_type": "execute_result"
    }
   ],
   "source": [
    "# only top 10 selected\n",
    "df.groupby('item_name')['price'].std().reset_index().sort_values(['price'], ascending=False)[0:10]"
   ]
  },
  {
   "cell_type": "markdown",
   "id": "3a5dad91",
   "metadata": {},
   "source": [
    "## Compare Prices"
   ]
  },
  {
   "cell_type": "code",
   "execution_count": 67,
   "id": "2bd53e6a",
   "metadata": {},
   "outputs": [
    {
     "data": {
      "image/png": "[encoded data removed]",
      "text/plain": [
       "<Figure size 432x288 with 1 Axes>"
      ]
     },
     "metadata": {},
     "output_type": "display_data"
    }
   ],
   "source": [
    "def compare_price(df:pd.DataFrame, item_name:str):\n",
    "    price = df[df['item_name'] == 'Watch'][['item_name', 'price', 'shopid']].sort_values(by=['price'])\n",
    "    \n",
    "    plt.style.use('fivethirtyeight')\n",
    "    count = price['price']\n",
    "    cb_   = price['shopid'].astype(str)\n",
    "    plt.bar(cb_, count, edgecolor='black')\n",
    "    plt.xlabel(\"shopid\")\n",
    "    plt.ylabel(\"price\")\n",
    "    \n",
    "compare_price(df, 'Watch')"
   ]
  },
  {
   "cell_type": "markdown",
   "id": "a954953f",
   "metadata": {},
   "source": [
    "# For each category, which shop sold the most product?"
   ]
  },
  {
   "cell_type": "code",
   "execution_count": 68,
   "id": "18cc09e1",
   "metadata": {},
   "outputs": [
    {
     "data": {
      "text/html": [
       "<div>\n",
       "<style scoped>\n",
       "    .dataframe tbody tr th:only-of-type {\n",
       "        vertical-align: middle;\n",
       "    }\n",
       "\n",
       "    .dataframe tbody tr th {\n",
       "        vertical-align: top;\n",
       "    }\n",
       "\n",
       "    .dataframe thead th {\n",
       "        text-align: right;\n",
       "    }\n",
       "</style>\n",
       "<table border=\"1\" class=\"dataframe\">\n",
       "  <thead>\n",
       "    <tr style=\"text-align: right;\">\n",
       "      <th></th>\n",
       "      <th>category</th>\n",
       "      <th>shopid</th>\n",
       "      <th>revenue</th>\n",
       "    </tr>\n",
       "  </thead>\n",
       "  <tbody>\n",
       "    <tr>\n",
       "      <th>1492</th>\n",
       "      <td>Watches</td>\n",
       "      <td>845032</td>\n",
       "      <td>9924.00</td>\n",
       "    </tr>\n",
       "    <tr>\n",
       "      <th>553</th>\n",
       "      <td>Home &amp; Living</td>\n",
       "      <td>4570022</td>\n",
       "      <td>5202.00</td>\n",
       "    </tr>\n",
       "    <tr>\n",
       "      <th>445</th>\n",
       "      <td>Health &amp; Beauty</td>\n",
       "      <td>11298092</td>\n",
       "      <td>4200.00</td>\n",
       "    </tr>\n",
       "    <tr>\n",
       "      <th>982</th>\n",
       "      <td>Men's Wear</td>\n",
       "      <td>15004011</td>\n",
       "      <td>3947.43</td>\n",
       "    </tr>\n",
       "    <tr>\n",
       "      <th>1631</th>\n",
       "      <td>Women's Apparel</td>\n",
       "      <td>8463086</td>\n",
       "      <td>2756.13</td>\n",
       "    </tr>\n",
       "    <tr>\n",
       "      <th>295</th>\n",
       "      <td>Games &amp; Hobbies</td>\n",
       "      <td>94090</td>\n",
       "      <td>2254.00</td>\n",
       "    </tr>\n",
       "    <tr>\n",
       "      <th>21</th>\n",
       "      <td>Bags &amp; Luggage</td>\n",
       "      <td>376068</td>\n",
       "      <td>1932.90</td>\n",
       "    </tr>\n",
       "    <tr>\n",
       "      <th>883</th>\n",
       "      <td>Men's Shoes</td>\n",
       "      <td>167052</td>\n",
       "      <td>1738.00</td>\n",
       "    </tr>\n",
       "    <tr>\n",
       "      <th>734</th>\n",
       "      <td>Jewellery &amp; Accessories</td>\n",
       "      <td>137019</td>\n",
       "      <td>1490.00</td>\n",
       "    </tr>\n",
       "    <tr>\n",
       "      <th>197</th>\n",
       "      <td>Computers &amp; Peripherals</td>\n",
       "      <td>30875067</td>\n",
       "      <td>1256.67</td>\n",
       "    </tr>\n",
       "    <tr>\n",
       "      <th>1474</th>\n",
       "      <td>Toys, Kids &amp; Babies</td>\n",
       "      <td>51972067</td>\n",
       "      <td>900.00</td>\n",
       "    </tr>\n",
       "    <tr>\n",
       "      <th>1801</th>\n",
       "      <td>Women's Shoes</td>\n",
       "      <td>10036</td>\n",
       "      <td>873.20</td>\n",
       "    </tr>\n",
       "    <tr>\n",
       "      <th>1111</th>\n",
       "      <td>Mobile &amp; Gadgets</td>\n",
       "      <td>5564068</td>\n",
       "      <td>834.90</td>\n",
       "    </tr>\n",
       "    <tr>\n",
       "      <th>700</th>\n",
       "      <td>Home Appliances</td>\n",
       "      <td>12152108</td>\n",
       "      <td>783.75</td>\n",
       "    </tr>\n",
       "    <tr>\n",
       "      <th>1224</th>\n",
       "      <td>Pet Accessories</td>\n",
       "      <td>192098</td>\n",
       "      <td>396.00</td>\n",
       "    </tr>\n",
       "    <tr>\n",
       "      <th>212</th>\n",
       "      <td>Design &amp; Crafts</td>\n",
       "      <td>458052</td>\n",
       "      <td>278.80</td>\n",
       "    </tr>\n",
       "    <tr>\n",
       "      <th>1291</th>\n",
       "      <td>Sports &amp; Outdoors</td>\n",
       "      <td>16283095</td>\n",
       "      <td>275.40</td>\n",
       "    </tr>\n",
       "    <tr>\n",
       "      <th>1059</th>\n",
       "      <td>Miscellaneous</td>\n",
       "      <td>4150116</td>\n",
       "      <td>247.82</td>\n",
       "    </tr>\n",
       "    <tr>\n",
       "      <th>291</th>\n",
       "      <td>Food &amp; Beverages</td>\n",
       "      <td>53450021</td>\n",
       "      <td>92.50</td>\n",
       "    </tr>\n",
       "    <tr>\n",
       "      <th>1320</th>\n",
       "      <td>Tickets &amp; Vouchers</td>\n",
       "      <td>229055</td>\n",
       "      <td>0.00</td>\n",
       "    </tr>\n",
       "  </tbody>\n",
       "</table>\n",
       "</div>"
      ],
      "text/plain": [
       "                     category    shopid  revenue\n",
       "1492                  Watches    845032  9924.00\n",
       "553             Home & Living   4570022  5202.00\n",
       "445           Health & Beauty  11298092  4200.00\n",
       "982                Men's Wear  15004011  3947.43\n",
       "1631          Women's Apparel   8463086  2756.13\n",
       "295           Games & Hobbies     94090  2254.00\n",
       "21             Bags & Luggage    376068  1932.90\n",
       "883               Men's Shoes    167052  1738.00\n",
       "734   Jewellery & Accessories    137019  1490.00\n",
       "197   Computers & Peripherals  30875067  1256.67\n",
       "1474      Toys, Kids & Babies  51972067   900.00\n",
       "1801            Women's Shoes     10036   873.20\n",
       "1111         Mobile & Gadgets   5564068   834.90\n",
       "700           Home Appliances  12152108   783.75\n",
       "1224          Pet Accessories    192098   396.00\n",
       "212           Design & Crafts    458052   278.80\n",
       "1291        Sports & Outdoors  16283095   275.40\n",
       "1059           Miscellaneous    4150116   247.82\n",
       "291          Food & Beverages  53450021    92.50\n",
       "1320       Tickets & Vouchers    229055     0.00"
      ]
     },
     "execution_count": 68,
     "metadata": {},
     "output_type": "execute_result"
    }
   ],
   "source": [
    "df.groupby(['category', 'shopid'])['revenue'].sum().reset_index().sort_values(['revenue'], ascending=False).drop_duplicates(subset=['category'], keep='first')"
   ]
  }
 ],
 "metadata": {
  "kernelspec": {
   "display_name": "Python 3",
   "language": "python",
   "name": "python3"
  },
  "language_info": {
   "codemirror_mode": {
    "name": "ipython",
    "version": 3
   },
   "file_extension": ".py",
   "mimetype": "text/x-python",
   "name": "python",
   "nbconvert_exporter": "python",
   "pygments_lexer": "ipython3",
   "version": "3.9.4"
  }
 },
 "nbformat": 4,
 "nbformat_minor": 5
}
